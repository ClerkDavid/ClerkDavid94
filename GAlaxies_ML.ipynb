{
  "nbformat": 4,
  "nbformat_minor": 0,
  "metadata": {
    "colab": {
      "name": "Clase_Aragon.ipynb",
      "provenance": []
    },
    "kernelspec": {
      "name": "python3",
      "display_name": "Python 3"
    },
    "accelerator": "GPU"
  },
  "cells": [
    {
      "cell_type": "code",
      "metadata": {
        "id": "qWRe5q_R4i57"
      },
      "source": [
        "import numpy as np \r\n",
        "from keras.models import Sequential \r\n",
        "from keras.layers import Dense\r\n",
        "import os"
      ],
      "execution_count": null,
      "outputs": []
    },
    {
      "cell_type": "code",
      "metadata": {
        "id": "i_01jViS-VL8"
      },
      "source": [
        "os.chdir('/content/drive/MyDrive/Josue/Maestria UNAM/Tercer semestre/ClasePython/Aragon')"
      ],
      "execution_count": null,
      "outputs": []
    },
    {
      "cell_type": "code",
      "metadata": {
        "id": "rLgw2Q1Z92yV"
      },
      "source": [
        "# redshift, photo-z, m+u, m_g, m_r, m_i, m_z, petro50, petro90\r\n",
        "sdss =  np.load('DR9_photo-z-small.npy')"
      ],
      "execution_count": null,
      "outputs": []
    },
    {
      "cell_type": "code",
      "metadata": {
        "colab": {
          "base_uri": "https://localhost:8080/",
          "height": 265
        },
        "id": "gMQ3mFyu-Nzt",
        "outputId": "fb3a5ac1-4081-4de8-efb5-7aa798466456"
      },
      "source": [
        "import matplotlib.pyplot as plt\r\n",
        "\r\n",
        "plt.scatter(sdss[0:1000,0], sdss[0:1000,1], s=1)\r\n",
        "plt.show()"
      ],
      "execution_count": null,
      "outputs": [
        {
          "output_type": "display_data",
          "data": {
            "image/png": "[encoded data removed]",
            "text/plain": [
              "<Figure size 432x288 with 1 Axes>"
            ]
          },
          "metadata": {
            "tags": [],
            "needs_background": "light"
          }
        }
      ]
    },
    {
      "cell_type": "code",
      "metadata": {
        "id": "zF1ANTrY-wER"
      },
      "source": [
        "n = sdss.shape[0]\r\n",
        "\r\n",
        "x_train = np.zeros((100000,6), dtype = np.float32)\r\n",
        "x_train[:,0] = sdss[:,2] #m_u\r\n",
        "x_train[:,1] = sdss[:,3] #m_g\r\n",
        "x_train[:,2] = sdss[:,4] #m_r\r\n",
        "x_train[:,3] = sdss[:,5] #m_i\r\n",
        "x_train[:,4] = sdss[:,6] #m_z\r\n",
        "x_train[:,5] = sdss[:,8] #petro90\r\n",
        "\r\n",
        "\r\n",
        "Y_train = sdss[:,0]"
      ],
      "execution_count": null,
      "outputs": []
    },
    {
      "cell_type": "code",
      "metadata": {
        "colab": {
          "base_uri": "https://localhost:8080/"
        },
        "id": "A6hTB5AfCsTO",
        "outputId": "11d10dc0-8e2b-46b8-9782-19f63087c6f3"
      },
      "source": [
        "model = Sequential()\r\n",
        "\r\n",
        "model.add(Dense(8, input_dim = 6, activation = 'relu') ) # 8 neuronas\r\n",
        "\r\n",
        "model.add(Dense(4, input_dim = 6, activation = 'relu') ) #4 neuronas\r\n",
        "\r\n",
        "model.add(Dense(1, input_dim = 6, activation = 'linear') ) # 1 neurona\r\n",
        "\r\n",
        "model.compile(loss = 'mse', optimizer = 'adam', metrics = ['mse'])\r\n",
        "\r\n",
        "model.summary()"
      ],
      "execution_count": null,
      "outputs": [
        {
          "output_type": "stream",
          "text": [
            "Model: \"sequential_3\"\n",
            "_________________________________________________________________\n",
            "Layer (type)                 Output Shape              Param #   \n",
            "=================================================================\n",
            "dense_9 (Dense)              (None, 8)                 56        \n",
            "_________________________________________________________________\n",
            "dense_10 (Dense)             (None, 4)                 36        \n",
            "_________________________________________________________________\n",
            "dense_11 (Dense)             (None, 1)                 5         \n",
            "=================================================================\n",
            "Total params: 97\n",
            "Trainable params: 97\n",
            "Non-trainable params: 0\n",
            "_________________________________________________________________\n"
          ],
          "name": "stdout"
        }
      ]
    },
    {
      "cell_type": "code",
      "metadata": {
        "colab": {
          "base_uri": "https://localhost:8080/"
        },
        "id": "OUEJiniNGW30",
        "outputId": "2688b7b3-4543-4a6a-fae6-9e1f32967d72"
      },
      "source": [
        "model.fit( x_train, Y_train, epochs = 20, batch_size = 10)"
      ],
      "execution_count": null,
      "outputs": [
        {
          "output_type": "stream",
          "text": [
            "Epoch 1/20\n",
            "10000/10000 [==============================] - 17s 2ms/step - loss: 0.1762 - mse: 0.1762\n",
            "Epoch 2/20\n",
            "10000/10000 [==============================] - 16s 2ms/step - loss: 0.0283 - mse: 0.0283\n",
            "Epoch 3/20\n",
            "10000/10000 [==============================] - 16s 2ms/step - loss: 0.0209 - mse: 0.0209\n",
            "Epoch 4/20\n",
            "10000/10000 [==============================] - 16s 2ms/step - loss: 0.0181 - mse: 0.0181\n",
            "Epoch 5/20\n",
            "10000/10000 [==============================] - 16s 2ms/step - loss: 0.0107 - mse: 0.0107\n",
            "Epoch 6/20\n",
            "10000/10000 [==============================] - 16s 2ms/step - loss: 0.0104 - mse: 0.0104\n",
            "Epoch 7/20\n",
            "10000/10000 [==============================] - 16s 2ms/step - loss: 0.0107 - mse: 0.0107\n",
            "Epoch 8/20\n",
            "10000/10000 [==============================] - 15s 2ms/step - loss: 0.0065 - mse: 0.0065\n",
            "Epoch 9/20\n",
            "10000/10000 [==============================] - 15s 2ms/step - loss: 0.0063 - mse: 0.0063\n",
            "Epoch 10/20\n",
            "10000/10000 [==============================] - 15s 2ms/step - loss: 0.0059 - mse: 0.0059\n",
            "Epoch 11/20\n",
            "10000/10000 [==============================] - 16s 2ms/step - loss: 0.0062 - mse: 0.0062\n",
            "Epoch 12/20\n",
            "10000/10000 [==============================] - 15s 2ms/step - loss: 0.0060 - mse: 0.0060\n",
            "Epoch 13/20\n",
            "10000/10000 [==============================] - 16s 2ms/step - loss: 0.0057 - mse: 0.0057\n",
            "Epoch 14/20\n",
            "10000/10000 [==============================] - 16s 2ms/step - loss: 0.0057 - mse: 0.0057\n",
            "Epoch 15/20\n",
            "10000/10000 [==============================] - 16s 2ms/step - loss: 0.0060 - mse: 0.0060\n",
            "Epoch 16/20\n",
            "10000/10000 [==============================] - 16s 2ms/step - loss: 0.0057 - mse: 0.0057\n",
            "Epoch 17/20\n",
            "10000/10000 [==============================] - 16s 2ms/step - loss: 0.0058 - mse: 0.0058\n",
            "Epoch 18/20\n",
            "10000/10000 [==============================] - 15s 2ms/step - loss: 0.0058 - mse: 0.0058\n",
            "Epoch 19/20\n",
            "10000/10000 [==============================] - 15s 2ms/step - loss: 0.0056 - mse: 0.0056\n",
            "Epoch 20/20\n",
            "10000/10000 [==============================] - 15s 2ms/step - loss: 0.0056 - mse: 0.0056\n"
          ],
          "name": "stdout"
        },
        {
          "output_type": "execute_result",
          "data": {
            "text/plain": [
              "<tensorflow.python.keras.callbacks.History at 0x7fed90557278>"
            ]
          },
          "metadata": {
            "tags": []
          },
          "execution_count": 11
        }
      ]
    },
    {
      "cell_type": "code",
      "metadata": {
        "id": "CRaAX5g5HgEm"
      },
      "source": [
        "Y_pred = model.predict(x_train[0:1000])"
      ],
      "execution_count": null,
      "outputs": []
    },
    {
      "cell_type": "code",
      "metadata": {
        "colab": {
          "base_uri": "https://localhost:8080/",
          "height": 283
        },
        "id": "VsRPD67hJcn_",
        "outputId": "633fd4de-88e3-44cc-88be-e050b48dbbc0"
      },
      "source": [
        "plt.scatter(sdss[0:1000,0], Y_pred, s=1)\r\n",
        "plt.show()\r\n",
        "\r\n",
        "print(np.std(sdss[0:1000,0] - Y_pred))"
      ],
      "execution_count": null,
      "outputs": [
        {
          "output_type": "display_data",
          "data": {
            "image/png": "[encoded data removed]",
            "text/plain": [
              "<Figure size 432x288 with 1 Axes>"
            ]
          },
          "metadata": {
            "tags": [],
            "needs_background": "light"
          }
        },
        {
          "output_type": "stream",
          "text": [
            "0.2913256\n"
          ],
          "name": "stdout"
        }
      ]
    },
    {
      "cell_type": "code",
      "metadata": {
        "id": "sx-QWtbQJ78M"
      },
      "source": [
        ""
      ],
      "execution_count": null,
      "outputs": []
    }
  ]
}