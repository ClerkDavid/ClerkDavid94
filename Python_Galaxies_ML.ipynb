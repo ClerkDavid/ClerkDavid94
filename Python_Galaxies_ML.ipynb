{
  "nbformat": 4,
  "nbformat_minor": 0,
  "metadata": {
    "colab": {
      "name": "Examen_python.ipynb",
      "provenance": []
    },
    "kernelspec": {
      "name": "python3",
      "display_name": "Python 3"
    }
  },
  "cells": [
    {
      "cell_type": "code",
      "metadata": {
        "colab": {
          "base_uri": "https://localhost:8080/"
        },
        "id": "pBSKi8-mLkON",
        "outputId": "c4cbb80e-26d3-4b18-f04a-68b34fd01dca"
      },
      "source": [
        "!pip install pymysql"
      ],
      "execution_count": null,
      "outputs": [
        {
          "output_type": "stream",
          "text": [
            "Collecting pymysql\n",
            "\u001b[?25l  Downloading https://files.pythonhosted.org/packages/4f/52/a115fe175028b058df353c5a3d5290b71514a83f67078a6482cff24d6137/PyMySQL-1.0.2-py3-none-any.whl (43kB)\n",
            "\r\u001b[K     |███████▌                        | 10kB 21.6MB/s eta 0:00:01\r\u001b[K     |███████████████                 | 20kB 10.8MB/s eta 0:00:01\r\u001b[K     |██████████████████████▍         | 30kB 8.1MB/s eta 0:00:01\r\u001b[K     |██████████████████████████████  | 40kB 7.3MB/s eta 0:00:01\r\u001b[K     |████████████████████████████████| 51kB 3.0MB/s \n",
            "\u001b[?25hInstalling collected packages: pymysql\n",
            "Successfully installed pymysql-1.0.2\n"
          ],
          "name": "stdout"
        }
      ]
    },
    {
      "cell_type": "code",
      "metadata": {
        "id": "0cZ6N0OXN1ls"
      },
      "source": [
        "import pymysql\n",
        "import pandas as pd\n",
        "import matplotlib.pyplot as plt\n",
        "import numpy as np\n",
        "from keras.models import Sequential\n",
        "from keras.layers import Dense"
      ],
      "execution_count": null,
      "outputs": []
    },
    {
      "cell_type": "code",
      "metadata": {
        "id": "j5K2dwh8L5oS"
      },
      "source": [
        "co = pymysql.connect(host='3mdb.astro.unam.mx', user='OVN_user', passwd= 'oiii5007', db='3MdB_17')\n",
        "res = pd.read_sql(\"\"\"\n",
        "SELECT \n",
        "log10(N__2_658345A/H__1_656281A) as N2, \n",
        "log10(O__3_500684A/H__1_486133A) as O3,\n",
        "log10(BLND_372700A/H__1_486133A) as O2,\n",
        "log10((NE_3_386876A + NE_3_396747A)/H__1_486133A) as Ne3,\n",
        "log10(AR_3_713579A/H__1_486133A) as Ar3,\n",
        "log10(HE_1_587564A/H__1_486133A) as He1,\n",
        "log10(BLND_436300A/O__3_500684A) as rO3,\n",
        "OXYGEN as O \n",
        "from tab_17\n",
        "where ref = 'BOND_2' and Hbfrac > 0.8 \"\"\", \n",
        "con=co)\n",
        "co.close()"
      ],
      "execution_count": null,
      "outputs": []
    },
    {
      "cell_type": "code",
      "metadata": {
        "id": "0AGGU7CK9L0f"
      },
      "source": [
        "Table = res"
      ],
      "execution_count": null,
      "outputs": []
    },
    {
      "cell_type": "code",
      "metadata": {
        "colab": {
          "base_uri": "https://localhost:8080/",
          "height": 399
        },
        "id": "Nlp1i_qx98iw",
        "outputId": "1c17bcb8-f421-4d2e-f7fb-c999d7b91b89"
      },
      "source": [
        "Table"
      ],
      "execution_count": null,
      "outputs": [
        {
          "output_type": "execute_result",
          "data": {
            "text/html": [
              "<div>\n",
              "<style scoped>\n",
              "    .dataframe tbody tr th:only-of-type {\n",
              "        vertical-align: middle;\n",
              "    }\n",
              "\n",
              "    .dataframe tbody tr th {\n",
              "        vertical-align: top;\n",
              "    }\n",
              "\n",
              "    .dataframe thead th {\n",
              "        text-align: right;\n",
              "    }\n",
              "</style>\n",
              "<table border=\"1\" class=\"dataframe\">\n",
              "  <thead>\n",
              "    <tr style=\"text-align: right;\">\n",
              "      <th></th>\n",
              "      <th>N2</th>\n",
              "      <th>O3</th>\n",
              "      <th>O2</th>\n",
              "      <th>Ne3</th>\n",
              "      <th>Ar3</th>\n",
              "      <th>He1</th>\n",
              "      <th>rO3</th>\n",
              "      <th>O</th>\n",
              "    </tr>\n",
              "  </thead>\n",
              "  <tbody>\n",
              "    <tr>\n",
              "      <th>0</th>\n",
              "      <td>-2.987735</td>\n",
              "      <td>-0.453532</td>\n",
              "      <td>-1.029124</td>\n",
              "      <td>-1.487672</td>\n",
              "      <td>-2.368990</td>\n",
              "      <td>-1.016828</td>\n",
              "      <td>-1.573736</td>\n",
              "      <td>-5.4</td>\n",
              "    </tr>\n",
              "    <tr>\n",
              "      <th>1</th>\n",
              "      <td>-3.099837</td>\n",
              "      <td>-0.407860</td>\n",
              "      <td>-1.077828</td>\n",
              "      <td>-1.455701</td>\n",
              "      <td>-2.352631</td>\n",
              "      <td>-1.021487</td>\n",
              "      <td>-1.572343</td>\n",
              "      <td>-5.4</td>\n",
              "    </tr>\n",
              "    <tr>\n",
              "      <th>2</th>\n",
              "      <td>-3.202204</td>\n",
              "      <td>0.376873</td>\n",
              "      <td>-0.992681</td>\n",
              "      <td>-0.673078</td>\n",
              "      <td>-1.884810</td>\n",
              "      <td>-1.017745</td>\n",
              "      <td>-1.477737</td>\n",
              "      <td>-4.8</td>\n",
              "    </tr>\n",
              "    <tr>\n",
              "      <th>3</th>\n",
              "      <td>-0.123278</td>\n",
              "      <td>0.233510</td>\n",
              "      <td>0.386533</td>\n",
              "      <td>-0.721087</td>\n",
              "      <td>-1.207800</td>\n",
              "      <td>-0.979469</td>\n",
              "      <td>-1.988551</td>\n",
              "      <td>-4.0</td>\n",
              "    </tr>\n",
              "    <tr>\n",
              "      <th>4</th>\n",
              "      <td>-1.097684</td>\n",
              "      <td>0.365660</td>\n",
              "      <td>0.584045</td>\n",
              "      <td>-0.884406</td>\n",
              "      <td>-0.807009</td>\n",
              "      <td>-0.930318</td>\n",
              "      <td>-2.669623</td>\n",
              "      <td>-3.2</td>\n",
              "    </tr>\n",
              "    <tr>\n",
              "      <th>...</th>\n",
              "      <td>...</td>\n",
              "      <td>...</td>\n",
              "      <td>...</td>\n",
              "      <td>...</td>\n",
              "      <td>...</td>\n",
              "      <td>...</td>\n",
              "      <td>...</td>\n",
              "      <td>...</td>\n",
              "    </tr>\n",
              "    <tr>\n",
              "      <th>42117</th>\n",
              "      <td>-0.940844</td>\n",
              "      <td>-5.734957</td>\n",
              "      <td>-1.529916</td>\n",
              "      <td>-7.863042</td>\n",
              "      <td>-3.150767</td>\n",
              "      <td>-1.761577</td>\n",
              "      <td>-4.691507</td>\n",
              "      <td>-2.6</td>\n",
              "    </tr>\n",
              "    <tr>\n",
              "      <th>42118</th>\n",
              "      <td>-2.252078</td>\n",
              "      <td>-7.481761</td>\n",
              "      <td>-1.682038</td>\n",
              "      <td>-10.189831</td>\n",
              "      <td>-4.476845</td>\n",
              "      <td>-1.766705</td>\n",
              "      <td>-3.225415</td>\n",
              "      <td>-2.6</td>\n",
              "    </tr>\n",
              "    <tr>\n",
              "      <th>42119</th>\n",
              "      <td>-0.141363</td>\n",
              "      <td>-2.225892</td>\n",
              "      <td>-0.637258</td>\n",
              "      <td>-3.569587</td>\n",
              "      <td>-1.499450</td>\n",
              "      <td>-0.872822</td>\n",
              "      <td>-4.243326</td>\n",
              "      <td>-2.6</td>\n",
              "    </tr>\n",
              "    <tr>\n",
              "      <th>42120</th>\n",
              "      <td>-0.390428</td>\n",
              "      <td>-2.866517</td>\n",
              "      <td>-1.138111</td>\n",
              "      <td>-4.442270</td>\n",
              "      <td>-1.974704</td>\n",
              "      <td>-0.880060</td>\n",
              "      <td>-4.726250</td>\n",
              "      <td>-2.6</td>\n",
              "    </tr>\n",
              "    <tr>\n",
              "      <th>42121</th>\n",
              "      <td>-0.913746</td>\n",
              "      <td>-4.775421</td>\n",
              "      <td>-1.392194</td>\n",
              "      <td>-6.737230</td>\n",
              "      <td>-2.772968</td>\n",
              "      <td>-1.195957</td>\n",
              "      <td>-4.674352</td>\n",
              "      <td>-2.6</td>\n",
              "    </tr>\n",
              "  </tbody>\n",
              "</table>\n",
              "<p>42122 rows × 8 columns</p>\n",
              "</div>"
            ],
            "text/plain": [
              "             N2        O3        O2  ...       He1       rO3    O\n",
              "0     -2.987735 -0.453532 -1.029124  ... -1.016828 -1.573736 -5.4\n",
              "1     -3.099837 -0.407860 -1.077828  ... -1.021487 -1.572343 -5.4\n",
              "2     -3.202204  0.376873 -0.992681  ... -1.017745 -1.477737 -4.8\n",
              "3     -0.123278  0.233510  0.386533  ... -0.979469 -1.988551 -4.0\n",
              "4     -1.097684  0.365660  0.584045  ... -0.930318 -2.669623 -3.2\n",
              "...         ...       ...       ...  ...       ...       ...  ...\n",
              "42117 -0.940844 -5.734957 -1.529916  ... -1.761577 -4.691507 -2.6\n",
              "42118 -2.252078 -7.481761 -1.682038  ... -1.766705 -3.225415 -2.6\n",
              "42119 -0.141363 -2.225892 -0.637258  ... -0.872822 -4.243326 -2.6\n",
              "42120 -0.390428 -2.866517 -1.138111  ... -0.880060 -4.726250 -2.6\n",
              "42121 -0.913746 -4.775421 -1.392194  ... -1.195957 -4.674352 -2.6\n",
              "\n",
              "[42122 rows x 8 columns]"
            ]
          },
          "metadata": {
            "tags": []
          },
          "execution_count": 176
        }
      ]
    },
    {
      "cell_type": "code",
      "metadata": {
        "id": "t6ipaeHz4gh-"
      },
      "source": [
        "df = pd.DataFrame(res)\r\n",
        "df.to_csv('/content/drive/MyDrive/Josue/Maestria UNAM/Tercer semestre/ClasePython/Tabla_Examen2.csv')"
      ],
      "execution_count": null,
      "outputs": []
    },
    {
      "cell_type": "code",
      "metadata": {
        "colab": {
          "base_uri": "https://localhost:8080/",
          "height": 295
        },
        "id": "pRAZ4uv47_cO",
        "outputId": "74aa47b1-95d3-4e51-dddb-9458f780666d"
      },
      "source": [
        "plt.scatter(Table['O3'], Table['N2'], c=Table['O'], edgecolor='None' )\r\n",
        "plt.colorbar()\r\n",
        "plt.title('Diagrama color O3 vs N2');\r\n",
        "plt.xlim(-5, 1);\r\n",
        "plt.ylim(-2, 2);\r\n",
        "plt.xlabel('O3');\r\n",
        "plt.ylabel('N2');"
      ],
      "execution_count": null,
      "outputs": [
        {
          "output_type": "display_data",
          "data": {
            "image/png": "[encoded data removed]",
            "text/plain": [
              "<Figure size 432x288 with 2 Axes>"
            ]
          },
          "metadata": {
            "tags": [],
            "needs_background": "light"
          }
        }
      ]
    },
    {
      "cell_type": "code",
      "metadata": {
        "id": "ZOJGkeR8NS8x"
      },
      "source": [
        "X_columns = ['N2', \r\n",
        "             'O3', \r\n",
        "             'O2', \r\n",
        "             'Ne3', \r\n",
        "             'Ar3', \r\n",
        "             'He1', \r\n",
        "             'rO3',\r\n",
        "             'O'\r\n",
        " ]\r\n",
        "y_columns = ['O']"
      ],
      "execution_count": null,
      "outputs": []
    },
    {
      "cell_type": "code",
      "metadata": {
        "id": "ksNA32E3O6_x"
      },
      "source": [
        "sdss_df = pd.DataFrame(Table, columns=X_columns)"
      ],
      "execution_count": null,
      "outputs": []
    },
    {
      "cell_type": "code",
      "metadata": {
        "colab": {
          "base_uri": "https://localhost:8080/"
        },
        "id": "hDYRuPuJK-F5",
        "outputId": "ddd3433b-6e5b-407b-88ad-f85cc18c7ed1"
      },
      "source": [
        "n = Table.shape\r\n",
        "n"
      ],
      "execution_count": null,
      "outputs": [
        {
          "output_type": "execute_result",
          "data": {
            "text/plain": [
              "(42122, 8)"
            ]
          },
          "metadata": {
            "tags": []
          },
          "execution_count": 180
        }
      ]
    },
    {
      "cell_type": "code",
      "metadata": {
        "colab": {
          "base_uri": "https://localhost:8080/",
          "height": 419
        },
        "id": "eEIB9JghM1LL",
        "outputId": "fa8a27c8-5e09-4274-b410-a6d6da71d2bf"
      },
      "source": [
        "Table"
      ],
      "execution_count": null,
      "outputs": [
        {
          "output_type": "execute_result",
          "data": {
            "text/html": [
              "<div>\n",
              "<style scoped>\n",
              "    .dataframe tbody tr th:only-of-type {\n",
              "        vertical-align: middle;\n",
              "    }\n",
              "\n",
              "    .dataframe tbody tr th {\n",
              "        vertical-align: top;\n",
              "    }\n",
              "\n",
              "    .dataframe thead th {\n",
              "        text-align: right;\n",
              "    }\n",
              "</style>\n",
              "<table border=\"1\" class=\"dataframe\">\n",
              "  <thead>\n",
              "    <tr style=\"text-align: right;\">\n",
              "      <th></th>\n",
              "      <th>N2</th>\n",
              "      <th>O3</th>\n",
              "      <th>O2</th>\n",
              "      <th>Ne3</th>\n",
              "      <th>Ar3</th>\n",
              "      <th>He1</th>\n",
              "      <th>rO3</th>\n",
              "      <th>O</th>\n",
              "    </tr>\n",
              "  </thead>\n",
              "  <tbody>\n",
              "    <tr>\n",
              "      <th>0</th>\n",
              "      <td>-2.987735</td>\n",
              "      <td>-0.453532</td>\n",
              "      <td>-1.029124</td>\n",
              "      <td>-1.487672</td>\n",
              "      <td>-2.368990</td>\n",
              "      <td>-1.016828</td>\n",
              "      <td>-1.573736</td>\n",
              "      <td>-5.4</td>\n",
              "    </tr>\n",
              "    <tr>\n",
              "      <th>1</th>\n",
              "      <td>-3.099837</td>\n",
              "      <td>-0.407860</td>\n",
              "      <td>-1.077828</td>\n",
              "      <td>-1.455701</td>\n",
              "      <td>-2.352631</td>\n",
              "      <td>-1.021487</td>\n",
              "      <td>-1.572343</td>\n",
              "      <td>-5.4</td>\n",
              "    </tr>\n",
              "    <tr>\n",
              "      <th>2</th>\n",
              "      <td>-3.202204</td>\n",
              "      <td>0.376873</td>\n",
              "      <td>-0.992681</td>\n",
              "      <td>-0.673078</td>\n",
              "      <td>-1.884810</td>\n",
              "      <td>-1.017745</td>\n",
              "      <td>-1.477737</td>\n",
              "      <td>-4.8</td>\n",
              "    </tr>\n",
              "    <tr>\n",
              "      <th>3</th>\n",
              "      <td>-0.123278</td>\n",
              "      <td>0.233510</td>\n",
              "      <td>0.386533</td>\n",
              "      <td>-0.721087</td>\n",
              "      <td>-1.207800</td>\n",
              "      <td>-0.979469</td>\n",
              "      <td>-1.988551</td>\n",
              "      <td>-4.0</td>\n",
              "    </tr>\n",
              "    <tr>\n",
              "      <th>4</th>\n",
              "      <td>-1.097684</td>\n",
              "      <td>0.365660</td>\n",
              "      <td>0.584045</td>\n",
              "      <td>-0.884406</td>\n",
              "      <td>-0.807009</td>\n",
              "      <td>-0.930318</td>\n",
              "      <td>-2.669623</td>\n",
              "      <td>-3.2</td>\n",
              "    </tr>\n",
              "    <tr>\n",
              "      <th>...</th>\n",
              "      <td>...</td>\n",
              "      <td>...</td>\n",
              "      <td>...</td>\n",
              "      <td>...</td>\n",
              "      <td>...</td>\n",
              "      <td>...</td>\n",
              "      <td>...</td>\n",
              "      <td>...</td>\n",
              "    </tr>\n",
              "    <tr>\n",
              "      <th>42117</th>\n",
              "      <td>-0.940844</td>\n",
              "      <td>-5.734957</td>\n",
              "      <td>-1.529916</td>\n",
              "      <td>-7.863042</td>\n",
              "      <td>-3.150767</td>\n",
              "      <td>-1.761577</td>\n",
              "      <td>-4.691507</td>\n",
              "      <td>-2.6</td>\n",
              "    </tr>\n",
              "    <tr>\n",
              "      <th>42118</th>\n",
              "      <td>-2.252078</td>\n",
              "      <td>-7.481761</td>\n",
              "      <td>-1.682038</td>\n",
              "      <td>-10.189831</td>\n",
              "      <td>-4.476845</td>\n",
              "      <td>-1.766705</td>\n",
              "      <td>-3.225415</td>\n",
              "      <td>-2.6</td>\n",
              "    </tr>\n",
              "    <tr>\n",
              "      <th>42119</th>\n",
              "      <td>-0.141363</td>\n",
              "      <td>-2.225892</td>\n",
              "      <td>-0.637258</td>\n",
              "      <td>-3.569587</td>\n",
              "      <td>-1.499450</td>\n",
              "      <td>-0.872822</td>\n",
              "      <td>-4.243326</td>\n",
              "      <td>-2.6</td>\n",
              "    </tr>\n",
              "    <tr>\n",
              "      <th>42120</th>\n",
              "      <td>-0.390428</td>\n",
              "      <td>-2.866517</td>\n",
              "      <td>-1.138111</td>\n",
              "      <td>-4.442270</td>\n",
              "      <td>-1.974704</td>\n",
              "      <td>-0.880060</td>\n",
              "      <td>-4.726250</td>\n",
              "      <td>-2.6</td>\n",
              "    </tr>\n",
              "    <tr>\n",
              "      <th>42121</th>\n",
              "      <td>-0.913746</td>\n",
              "      <td>-4.775421</td>\n",
              "      <td>-1.392194</td>\n",
              "      <td>-6.737230</td>\n",
              "      <td>-2.772968</td>\n",
              "      <td>-1.195957</td>\n",
              "      <td>-4.674352</td>\n",
              "      <td>-2.6</td>\n",
              "    </tr>\n",
              "  </tbody>\n",
              "</table>\n",
              "<p>42122 rows × 8 columns</p>\n",
              "</div>"
            ],
            "text/plain": [
              "             N2        O3        O2  ...       He1       rO3    O\n",
              "0     -2.987735 -0.453532 -1.029124  ... -1.016828 -1.573736 -5.4\n",
              "1     -3.099837 -0.407860 -1.077828  ... -1.021487 -1.572343 -5.4\n",
              "2     -3.202204  0.376873 -0.992681  ... -1.017745 -1.477737 -4.8\n",
              "3     -0.123278  0.233510  0.386533  ... -0.979469 -1.988551 -4.0\n",
              "4     -1.097684  0.365660  0.584045  ... -0.930318 -2.669623 -3.2\n",
              "...         ...       ...       ...  ...       ...       ...  ...\n",
              "42117 -0.940844 -5.734957 -1.529916  ... -1.761577 -4.691507 -2.6\n",
              "42118 -2.252078 -7.481761 -1.682038  ... -1.766705 -3.225415 -2.6\n",
              "42119 -0.141363 -2.225892 -0.637258  ... -0.872822 -4.243326 -2.6\n",
              "42120 -0.390428 -2.866517 -1.138111  ... -0.880060 -4.726250 -2.6\n",
              "42121 -0.913746 -4.775421 -1.392194  ... -1.195957 -4.674352 -2.6\n",
              "\n",
              "[42122 rows x 8 columns]"
            ]
          },
          "metadata": {
            "tags": []
          },
          "execution_count": 181
        }
      ]
    },
    {
      "cell_type": "code",
      "metadata": {
        "id": "oc-F-BNqIRfy"
      },
      "source": [
        "X_train = np.zeros(n, dtype = np.float32)\r\n",
        "X_train[:,0] = data['N2'] #N2\r\n",
        "#X_train[:,1] = data['O3'] #O3\r\n",
        "#X_train[:,2] = data['O2'] #O2\r\n",
        "#X_train[:,3] = data['Ne3'] #Ne3\r\n",
        "#X_train[:,4] = data['Ar3'] #Ar3\r\n",
        "#X_train[:,5] = data['He1'] #He1\r\n",
        "#X_train[:,6] = data['rO3'] #rO3\r\n",
        "\r\n",
        "Y_train = data['O']"
      ],
      "execution_count": null,
      "outputs": []
    },
    {
      "cell_type": "code",
      "metadata": {
        "colab": {
          "base_uri": "https://localhost:8080/"
        },
        "id": "aSdintukGNV6",
        "outputId": "74b6197f-854e-488f-9cda-7e42cfbdcb4b"
      },
      "source": [
        "train = data.sample(frac=0.9, random_state=32) #random state is a seed value\r\n",
        "test = data.drop(train.index)\r\n",
        "\r\n",
        "X_train = train[X_columns]\r\n",
        "y_train = train[y_columns]\r\n",
        "\r\n",
        "X_test = test[X_columns]\r\n",
        "y_test = test[y_columns]\r\n",
        "\r\n",
        "print(X_train.shape, y_train.shape, X_test.shape, y_test.shape)\r\n",
        "\r\n",
        "n_X = X_train.shape[1]"
      ],
      "execution_count": null,
      "outputs": [
        {
          "output_type": "stream",
          "text": [
            "(37910, 8) (37910, 1) (4212, 8) (4212, 1)\n"
          ],
          "name": "stdout"
        }
      ]
    },
    {
      "cell_type": "code",
      "metadata": {
        "colab": {
          "base_uri": "https://localhost:8080/"
        },
        "id": "JtluAIBwx1WV",
        "outputId": "49ab3862-7088-4ed4-a38e-92d047a3abb8"
      },
      "source": [
        "n_X"
      ],
      "execution_count": null,
      "outputs": [
        {
          "output_type": "execute_result",
          "data": {
            "text/plain": [
              "8"
            ]
          },
          "metadata": {
            "tags": []
          },
          "execution_count": 195
        }
      ]
    },
    {
      "cell_type": "code",
      "metadata": {
        "colab": {
          "base_uri": "https://localhost:8080/",
          "height": 419
        },
        "id": "tEojkhhBzF0x",
        "outputId": "5bf5f1e0-ec4b-49c5-f8f8-966c0a66723b"
      },
      "source": [
        "X_train"
      ],
      "execution_count": null,
      "outputs": [
        {
          "output_type": "execute_result",
          "data": {
            "text/html": [
              "<div>\n",
              "<style scoped>\n",
              "    .dataframe tbody tr th:only-of-type {\n",
              "        vertical-align: middle;\n",
              "    }\n",
              "\n",
              "    .dataframe tbody tr th {\n",
              "        vertical-align: top;\n",
              "    }\n",
              "\n",
              "    .dataframe thead th {\n",
              "        text-align: right;\n",
              "    }\n",
              "</style>\n",
              "<table border=\"1\" class=\"dataframe\">\n",
              "  <thead>\n",
              "    <tr style=\"text-align: right;\">\n",
              "      <th></th>\n",
              "      <th>N2</th>\n",
              "      <th>O3</th>\n",
              "      <th>O2</th>\n",
              "      <th>Ne3</th>\n",
              "      <th>Ar3</th>\n",
              "      <th>He1</th>\n",
              "      <th>rO3</th>\n",
              "      <th>O</th>\n",
              "    </tr>\n",
              "  </thead>\n",
              "  <tbody>\n",
              "    <tr>\n",
              "      <th>23788</th>\n",
              "      <td>-1.681357</td>\n",
              "      <td>0.778057</td>\n",
              "      <td>-0.239882</td>\n",
              "      <td>-0.472082</td>\n",
              "      <td>-0.934866</td>\n",
              "      <td>-0.950308</td>\n",
              "      <td>-2.360053</td>\n",
              "      <td>-3.4</td>\n",
              "    </tr>\n",
              "    <tr>\n",
              "      <th>14376</th>\n",
              "      <td>-1.277274</td>\n",
              "      <td>0.009077</td>\n",
              "      <td>-0.363205</td>\n",
              "      <td>-1.005909</td>\n",
              "      <td>-1.805859</td>\n",
              "      <td>-1.006017</td>\n",
              "      <td>-1.655953</td>\n",
              "      <td>-4.8</td>\n",
              "    </tr>\n",
              "    <tr>\n",
              "      <th>34454</th>\n",
              "      <td>-2.415655</td>\n",
              "      <td>-0.113448</td>\n",
              "      <td>0.049495</td>\n",
              "      <td>-1.048088</td>\n",
              "      <td>-1.652212</td>\n",
              "      <td>-1.017833</td>\n",
              "      <td>-1.783164</td>\n",
              "      <td>-4.6</td>\n",
              "    </tr>\n",
              "    <tr>\n",
              "      <th>33192</th>\n",
              "      <td>-0.828961</td>\n",
              "      <td>0.590776</td>\n",
              "      <td>0.277561</td>\n",
              "      <td>-0.461501</td>\n",
              "      <td>-1.105416</td>\n",
              "      <td>-0.991593</td>\n",
              "      <td>-1.896843</td>\n",
              "      <td>-4.0</td>\n",
              "    </tr>\n",
              "    <tr>\n",
              "      <th>37893</th>\n",
              "      <td>-1.624604</td>\n",
              "      <td>-0.275574</td>\n",
              "      <td>0.439682</td>\n",
              "      <td>-0.920133</td>\n",
              "      <td>-1.358995</td>\n",
              "      <td>-0.990275</td>\n",
              "      <td>-1.926616</td>\n",
              "      <td>-4.2</td>\n",
              "    </tr>\n",
              "    <tr>\n",
              "      <th>...</th>\n",
              "      <td>...</td>\n",
              "      <td>...</td>\n",
              "      <td>...</td>\n",
              "      <td>...</td>\n",
              "      <td>...</td>\n",
              "      <td>...</td>\n",
              "      <td>...</td>\n",
              "      <td>...</td>\n",
              "    </tr>\n",
              "    <tr>\n",
              "      <th>14732</th>\n",
              "      <td>-0.836645</td>\n",
              "      <td>-3.804420</td>\n",
              "      <td>-0.770377</td>\n",
              "      <td>-7.200496</td>\n",
              "      <td>-3.039333</td>\n",
              "      <td>-2.048326</td>\n",
              "      <td>-2.385579</td>\n",
              "      <td>-2.6</td>\n",
              "    </tr>\n",
              "    <tr>\n",
              "      <th>16115</th>\n",
              "      <td>-2.013645</td>\n",
              "      <td>-0.572268</td>\n",
              "      <td>-0.106000</td>\n",
              "      <td>-1.526889</td>\n",
              "      <td>-1.933693</td>\n",
              "      <td>-1.045314</td>\n",
              "      <td>-1.727967</td>\n",
              "      <td>-4.8</td>\n",
              "    </tr>\n",
              "    <tr>\n",
              "      <th>19244</th>\n",
              "      <td>-1.206823</td>\n",
              "      <td>-0.333736</td>\n",
              "      <td>0.393885</td>\n",
              "      <td>-1.664228</td>\n",
              "      <td>-1.495058</td>\n",
              "      <td>-1.115415</td>\n",
              "      <td>-1.893386</td>\n",
              "      <td>-4.2</td>\n",
              "    </tr>\n",
              "    <tr>\n",
              "      <th>40393</th>\n",
              "      <td>-0.644501</td>\n",
              "      <td>-5.041185</td>\n",
              "      <td>-1.535612</td>\n",
              "      <td>-7.108143</td>\n",
              "      <td>-2.936413</td>\n",
              "      <td>-1.636857</td>\n",
              "      <td>-4.586689</td>\n",
              "      <td>-2.8</td>\n",
              "    </tr>\n",
              "    <tr>\n",
              "      <th>40163</th>\n",
              "      <td>-0.752481</td>\n",
              "      <td>-5.026444</td>\n",
              "      <td>-0.061817</td>\n",
              "      <td>-6.821274</td>\n",
              "      <td>-2.895991</td>\n",
              "      <td>-2.591750</td>\n",
              "      <td>-3.261065</td>\n",
              "      <td>-3.0</td>\n",
              "    </tr>\n",
              "  </tbody>\n",
              "</table>\n",
              "<p>37910 rows × 8 columns</p>\n",
              "</div>"
            ],
            "text/plain": [
              "             N2        O3        O2  ...       He1       rO3    O\n",
              "23788 -1.681357  0.778057 -0.239882  ... -0.950308 -2.360053 -3.4\n",
              "14376 -1.277274  0.009077 -0.363205  ... -1.006017 -1.655953 -4.8\n",
              "34454 -2.415655 -0.113448  0.049495  ... -1.017833 -1.783164 -4.6\n",
              "33192 -0.828961  0.590776  0.277561  ... -0.991593 -1.896843 -4.0\n",
              "37893 -1.624604 -0.275574  0.439682  ... -0.990275 -1.926616 -4.2\n",
              "...         ...       ...       ...  ...       ...       ...  ...\n",
              "14732 -0.836645 -3.804420 -0.770377  ... -2.048326 -2.385579 -2.6\n",
              "16115 -2.013645 -0.572268 -0.106000  ... -1.045314 -1.727967 -4.8\n",
              "19244 -1.206823 -0.333736  0.393885  ... -1.115415 -1.893386 -4.2\n",
              "40393 -0.644501 -5.041185 -1.535612  ... -1.636857 -4.586689 -2.8\n",
              "40163 -0.752481 -5.026444 -0.061817  ... -2.591750 -3.261065 -3.0\n",
              "\n",
              "[37910 rows x 8 columns]"
            ]
          },
          "metadata": {
            "tags": []
          },
          "execution_count": 196
        }
      ]
    },
    {
      "cell_type": "code",
      "metadata": {
        "colab": {
          "base_uri": "https://localhost:8080/",
          "height": 419
        },
        "id": "UyXfkr64ziiP",
        "outputId": "fa6f6a7c-e473-4b31-a4de-756fa43c988f"
      },
      "source": [
        "y_train"
      ],
      "execution_count": null,
      "outputs": [
        {
          "output_type": "execute_result",
          "data": {
            "text/html": [
              "<div>\n",
              "<style scoped>\n",
              "    .dataframe tbody tr th:only-of-type {\n",
              "        vertical-align: middle;\n",
              "    }\n",
              "\n",
              "    .dataframe tbody tr th {\n",
              "        vertical-align: top;\n",
              "    }\n",
              "\n",
              "    .dataframe thead th {\n",
              "        text-align: right;\n",
              "    }\n",
              "</style>\n",
              "<table border=\"1\" class=\"dataframe\">\n",
              "  <thead>\n",
              "    <tr style=\"text-align: right;\">\n",
              "      <th></th>\n",
              "      <th>O</th>\n",
              "    </tr>\n",
              "  </thead>\n",
              "  <tbody>\n",
              "    <tr>\n",
              "      <th>23788</th>\n",
              "      <td>-3.4</td>\n",
              "    </tr>\n",
              "    <tr>\n",
              "      <th>14376</th>\n",
              "      <td>-4.8</td>\n",
              "    </tr>\n",
              "    <tr>\n",
              "      <th>34454</th>\n",
              "      <td>-4.6</td>\n",
              "    </tr>\n",
              "    <tr>\n",
              "      <th>33192</th>\n",
              "      <td>-4.0</td>\n",
              "    </tr>\n",
              "    <tr>\n",
              "      <th>37893</th>\n",
              "      <td>-4.2</td>\n",
              "    </tr>\n",
              "    <tr>\n",
              "      <th>...</th>\n",
              "      <td>...</td>\n",
              "    </tr>\n",
              "    <tr>\n",
              "      <th>14732</th>\n",
              "      <td>-2.6</td>\n",
              "    </tr>\n",
              "    <tr>\n",
              "      <th>16115</th>\n",
              "      <td>-4.8</td>\n",
              "    </tr>\n",
              "    <tr>\n",
              "      <th>19244</th>\n",
              "      <td>-4.2</td>\n",
              "    </tr>\n",
              "    <tr>\n",
              "      <th>40393</th>\n",
              "      <td>-2.8</td>\n",
              "    </tr>\n",
              "    <tr>\n",
              "      <th>40163</th>\n",
              "      <td>-3.0</td>\n",
              "    </tr>\n",
              "  </tbody>\n",
              "</table>\n",
              "<p>37910 rows × 1 columns</p>\n",
              "</div>"
            ],
            "text/plain": [
              "         O\n",
              "23788 -3.4\n",
              "14376 -4.8\n",
              "34454 -4.6\n",
              "33192 -4.0\n",
              "37893 -4.2\n",
              "...    ...\n",
              "14732 -2.6\n",
              "16115 -4.8\n",
              "19244 -4.2\n",
              "40393 -2.8\n",
              "40163 -3.0\n",
              "\n",
              "[37910 rows x 1 columns]"
            ]
          },
          "metadata": {
            "tags": []
          },
          "execution_count": 197
        }
      ]
    },
    {
      "cell_type": "code",
      "metadata": {
        "colab": {
          "base_uri": "https://localhost:8080/"
        },
        "id": "9ImkhjLYNe56",
        "outputId": "fb9a3577-4c4b-4710-e325-b8c2ab1eebc1"
      },
      "source": [
        "model = Sequential()\r\n",
        "\r\n",
        "model.add(Dense(40, input_dim=n_X, activation='relu'))\r\n",
        "model.add(Dense(20, activation='relu'))\r\n",
        "model.add(Dense(10, activation='relu'))\r\n",
        "model.add(Dense(1, activation='linear'))\r\n",
        "\r\n",
        "model.compile(loss='mse', optimizer='adam', metrics=['mse'])\r\n",
        "model.summary()"
      ],
      "execution_count": null,
      "outputs": [
        {
          "output_type": "stream",
          "text": [
            "Model: \"sequential_11\"\n",
            "_________________________________________________________________\n",
            "Layer (type)                 Output Shape              Param #   \n",
            "=================================================================\n",
            "dense_47 (Dense)             (None, 40)                360       \n",
            "_________________________________________________________________\n",
            "dense_48 (Dense)             (None, 20)                820       \n",
            "_________________________________________________________________\n",
            "dense_49 (Dense)             (None, 10)                210       \n",
            "_________________________________________________________________\n",
            "dense_50 (Dense)             (None, 1)                 11        \n",
            "=================================================================\n",
            "Total params: 1,401\n",
            "Trainable params: 1,401\n",
            "Non-trainable params: 0\n",
            "_________________________________________________________________\n"
          ],
          "name": "stdout"
        }
      ]
    },
    {
      "cell_type": "code",
      "metadata": {
        "colab": {
          "base_uri": "https://localhost:8080/"
        },
        "id": "bBuuvDD8SNSB",
        "outputId": "4debf7c5-8afc-4d7e-ff0e-3bba43335acf"
      },
      "source": [
        "model.fit(X_train, y_train, epochs=50, batch_size=10, verbose=1)"
      ],
      "execution_count": null,
      "outputs": [
        {
          "output_type": "stream",
          "text": [
            "Epoch 1/50\n",
            "3791/3791 [==============================] - 5s 1ms/step - loss: 0.9033 - mse: 0.9033\n",
            "Epoch 2/50\n",
            "3791/3791 [==============================] - 4s 1ms/step - loss: 3.4575e-04 - mse: 3.4575e-04\n",
            "Epoch 3/50\n",
            "3791/3791 [==============================] - 4s 1ms/step - loss: 2.2102e-04 - mse: 2.2102e-04\n",
            "Epoch 4/50\n",
            "3791/3791 [==============================] - 4s 1ms/step - loss: 2.1656e-04 - mse: 2.1656e-04\n",
            "Epoch 5/50\n",
            "3791/3791 [==============================] - 4s 1ms/step - loss: 8.5912e-05 - mse: 8.5912e-05\n",
            "Epoch 6/50\n",
            "3791/3791 [==============================] - 4s 1ms/step - loss: 8.6017e-05 - mse: 8.6017e-05\n",
            "Epoch 7/50\n",
            "3791/3791 [==============================] - 4s 1ms/step - loss: 7.1841e-05 - mse: 7.1841e-05\n",
            "Epoch 8/50\n",
            "3791/3791 [==============================] - 4s 1ms/step - loss: 8.1103e-05 - mse: 8.1103e-05\n",
            "Epoch 9/50\n",
            "3791/3791 [==============================] - 4s 1ms/step - loss: 1.2667e-04 - mse: 1.2667e-04\n",
            "Epoch 10/50\n",
            "3791/3791 [==============================] - 4s 1ms/step - loss: 8.9329e-05 - mse: 8.9329e-05\n",
            "Epoch 11/50\n",
            "3791/3791 [==============================] - 4s 1ms/step - loss: 6.2508e-05 - mse: 6.2508e-05\n",
            "Epoch 12/50\n",
            "3791/3791 [==============================] - 4s 1ms/step - loss: 3.3847e-05 - mse: 3.3847e-05\n",
            "Epoch 13/50\n",
            "3791/3791 [==============================] - 4s 1ms/step - loss: 5.7737e-05 - mse: 5.7737e-05\n",
            "Epoch 14/50\n",
            "3791/3791 [==============================] - 4s 1ms/step - loss: 2.3896e-05 - mse: 2.3896e-05\n",
            "Epoch 15/50\n",
            "3791/3791 [==============================] - 4s 1ms/step - loss: 4.5410e-05 - mse: 4.5410e-05\n",
            "Epoch 16/50\n",
            "3791/3791 [==============================] - 4s 1ms/step - loss: 6.3964e-05 - mse: 6.3964e-05\n",
            "Epoch 17/50\n",
            "3791/3791 [==============================] - 4s 1ms/step - loss: 7.1306e-05 - mse: 7.1306e-05\n",
            "Epoch 18/50\n",
            "3791/3791 [==============================] - 4s 1ms/step - loss: 9.6506e-05 - mse: 9.6506e-05\n",
            "Epoch 19/50\n",
            "3791/3791 [==============================] - 4s 1ms/step - loss: 5.8637e-05 - mse: 5.8637e-05\n",
            "Epoch 20/50\n",
            "3791/3791 [==============================] - 4s 1ms/step - loss: 8.5134e-05 - mse: 8.5134e-05\n",
            "Epoch 21/50\n",
            "3791/3791 [==============================] - 4s 1ms/step - loss: 4.4252e-05 - mse: 4.4252e-05\n",
            "Epoch 22/50\n",
            "3791/3791 [==============================] - 4s 1ms/step - loss: 4.0343e-05 - mse: 4.0343e-05\n",
            "Epoch 23/50\n",
            "3791/3791 [==============================] - 4s 1ms/step - loss: 6.6532e-05 - mse: 6.6532e-05\n",
            "Epoch 24/50\n",
            "3791/3791 [==============================] - 4s 1ms/step - loss: 2.3896e-05 - mse: 2.3896e-05\n",
            "Epoch 25/50\n",
            "3791/3791 [==============================] - 4s 1ms/step - loss: 3.5944e-05 - mse: 3.5944e-05\n",
            "Epoch 26/50\n",
            "3791/3791 [==============================] - 4s 1ms/step - loss: 4.2013e-05 - mse: 4.2013e-05\n",
            "Epoch 27/50\n",
            "3791/3791 [==============================] - 4s 1ms/step - loss: 3.3913e-05 - mse: 3.3913e-05\n",
            "Epoch 28/50\n",
            "3791/3791 [==============================] - 4s 1ms/step - loss: 1.1411e-05 - mse: 1.1411e-05\n",
            "Epoch 29/50\n",
            "3791/3791 [==============================] - 4s 1ms/step - loss: 3.9004e-05 - mse: 3.9004e-05\n",
            "Epoch 30/50\n",
            "3791/3791 [==============================] - 4s 1ms/step - loss: 5.4676e-05 - mse: 5.4676e-05\n",
            "Epoch 31/50\n",
            "3791/3791 [==============================] - 4s 1ms/step - loss: 3.2733e-05 - mse: 3.2733e-05\n",
            "Epoch 32/50\n",
            "3791/3791 [==============================] - 4s 1ms/step - loss: 3.9031e-05 - mse: 3.9031e-05\n",
            "Epoch 33/50\n",
            "3791/3791 [==============================] - 4s 1ms/step - loss: 3.6901e-05 - mse: 3.6901e-05\n",
            "Epoch 34/50\n",
            "3791/3791 [==============================] - 4s 1ms/step - loss: 2.4208e-05 - mse: 2.4208e-05\n",
            "Epoch 35/50\n",
            "3791/3791 [==============================] - 4s 1ms/step - loss: 4.5145e-05 - mse: 4.5145e-05\n",
            "Epoch 36/50\n",
            "3791/3791 [==============================] - 5s 1ms/step - loss: 2.3667e-05 - mse: 2.3667e-05\n",
            "Epoch 37/50\n",
            "3791/3791 [==============================] - 4s 1ms/step - loss: 1.3852e-05 - mse: 1.3852e-05\n",
            "Epoch 38/50\n",
            "3791/3791 [==============================] - 4s 1ms/step - loss: 5.3992e-05 - mse: 5.3992e-05\n",
            "Epoch 39/50\n",
            "3791/3791 [==============================] - 4s 1ms/step - loss: 5.7969e-06 - mse: 5.7969e-06\n",
            "Epoch 40/50\n",
            "3791/3791 [==============================] - 4s 1ms/step - loss: 4.0943e-05 - mse: 4.0943e-05\n",
            "Epoch 41/50\n",
            "3791/3791 [==============================] - 4s 1ms/step - loss: 1.5831e-05 - mse: 1.5831e-05\n",
            "Epoch 42/50\n",
            "3791/3791 [==============================] - 4s 1ms/step - loss: 3.0400e-05 - mse: 3.0400e-05\n",
            "Epoch 43/50\n",
            "3791/3791 [==============================] - 4s 1ms/step - loss: 2.6186e-05 - mse: 2.6186e-05\n",
            "Epoch 44/50\n",
            "3791/3791 [==============================] - 4s 1ms/step - loss: 2.5433e-05 - mse: 2.5433e-05\n",
            "Epoch 45/50\n",
            "3791/3791 [==============================] - 4s 1ms/step - loss: 1.6848e-05 - mse: 1.6848e-05\n",
            "Epoch 46/50\n",
            "3791/3791 [==============================] - 5s 1ms/step - loss: 1.4438e-05 - mse: 1.4438e-05\n",
            "Epoch 47/50\n",
            "3791/3791 [==============================] - 5s 1ms/step - loss: 1.2467e-05 - mse: 1.2467e-05\n",
            "Epoch 48/50\n",
            "3791/3791 [==============================] - 5s 1ms/step - loss: 3.3889e-05 - mse: 3.3889e-05\n",
            "Epoch 49/50\n",
            "3791/3791 [==============================] - 4s 1ms/step - loss: 2.2633e-05 - mse: 2.2633e-05\n",
            "Epoch 50/50\n",
            "3791/3791 [==============================] - 4s 1ms/step - loss: 1.6369e-05 - mse: 1.6369e-05\n"
          ],
          "name": "stdout"
        },
        {
          "output_type": "execute_result",
          "data": {
            "text/plain": [
              "<tensorflow.python.keras.callbacks.History at 0x7fa44ebd4748>"
            ]
          },
          "metadata": {
            "tags": []
          },
          "execution_count": 248
        }
      ]
    },
    {
      "cell_type": "code",
      "metadata": {
        "id": "VlFFqAm3Sfcx"
      },
      "source": [
        "y_pred = model.predict(X_test)"
      ],
      "execution_count": null,
      "outputs": []
    },
    {
      "cell_type": "code",
      "metadata": {
        "colab": {
          "base_uri": "https://localhost:8080/"
        },
        "id": "8e4UcaGFfy9r",
        "outputId": "868947ed-ec79-4b2e-f275-1cc5c5025077"
      },
      "source": [
        "y_pred.shape"
      ],
      "execution_count": null,
      "outputs": [
        {
          "output_type": "execute_result",
          "data": {
            "text/plain": [
              "(4212, 1)"
            ]
          },
          "metadata": {
            "tags": []
          },
          "execution_count": 250
        }
      ]
    },
    {
      "cell_type": "code",
      "metadata": {
        "colab": {
          "base_uri": "https://localhost:8080/"
        },
        "id": "mfvf5noZf2Bi",
        "outputId": "1e19784b-ed50-4f65-c019-be17af5bc097"
      },
      "source": [
        "X_test.shape"
      ],
      "execution_count": null,
      "outputs": [
        {
          "output_type": "execute_result",
          "data": {
            "text/plain": [
              "(4212, 8)"
            ]
          },
          "metadata": {
            "tags": []
          },
          "execution_count": 251
        }
      ]
    },
    {
      "cell_type": "code",
      "metadata": {
        "colab": {
          "base_uri": "https://localhost:8080/"
        },
        "id": "VHPR1QZ2xKBp",
        "outputId": "30168512-bb74-4f51-8741-18da90351412"
      },
      "source": [
        "y_pred"
      ],
      "execution_count": null,
      "outputs": [
        {
          "output_type": "execute_result",
          "data": {
            "text/plain": [
              "array([[-5.392506 ],\n",
              "       [-2.5912232],\n",
              "       [-5.3917465],\n",
              "       ...,\n",
              "       [-2.7925892],\n",
              "       [-2.5854607],\n",
              "       [-2.5959342]], dtype=float32)"
            ]
          },
          "metadata": {
            "tags": []
          },
          "execution_count": 252
        }
      ]
    },
    {
      "cell_type": "code",
      "metadata": {
        "colab": {
          "base_uri": "https://localhost:8080/",
          "height": 419
        },
        "id": "-IGWjDZlxNeU",
        "outputId": "fa692bc9-016c-4813-e7f2-646fcb63151b"
      },
      "source": [
        "y_test"
      ],
      "execution_count": null,
      "outputs": [
        {
          "output_type": "execute_result",
          "data": {
            "text/html": [
              "<div>\n",
              "<style scoped>\n",
              "    .dataframe tbody tr th:only-of-type {\n",
              "        vertical-align: middle;\n",
              "    }\n",
              "\n",
              "    .dataframe tbody tr th {\n",
              "        vertical-align: top;\n",
              "    }\n",
              "\n",
              "    .dataframe thead th {\n",
              "        text-align: right;\n",
              "    }\n",
              "</style>\n",
              "<table border=\"1\" class=\"dataframe\">\n",
              "  <thead>\n",
              "    <tr style=\"text-align: right;\">\n",
              "      <th></th>\n",
              "      <th>O</th>\n",
              "    </tr>\n",
              "  </thead>\n",
              "  <tbody>\n",
              "    <tr>\n",
              "      <th>0</th>\n",
              "      <td>-5.4</td>\n",
              "    </tr>\n",
              "    <tr>\n",
              "      <th>17</th>\n",
              "      <td>-2.6</td>\n",
              "    </tr>\n",
              "    <tr>\n",
              "      <th>19</th>\n",
              "      <td>-5.4</td>\n",
              "    </tr>\n",
              "    <tr>\n",
              "      <th>33</th>\n",
              "      <td>-4.8</td>\n",
              "    </tr>\n",
              "    <tr>\n",
              "      <th>51</th>\n",
              "      <td>-4.4</td>\n",
              "    </tr>\n",
              "    <tr>\n",
              "      <th>...</th>\n",
              "      <td>...</td>\n",
              "    </tr>\n",
              "    <tr>\n",
              "      <th>42053</th>\n",
              "      <td>-2.6</td>\n",
              "    </tr>\n",
              "    <tr>\n",
              "      <th>42073</th>\n",
              "      <td>-2.6</td>\n",
              "    </tr>\n",
              "    <tr>\n",
              "      <th>42074</th>\n",
              "      <td>-2.8</td>\n",
              "    </tr>\n",
              "    <tr>\n",
              "      <th>42075</th>\n",
              "      <td>-2.6</td>\n",
              "    </tr>\n",
              "    <tr>\n",
              "      <th>42088</th>\n",
              "      <td>-2.6</td>\n",
              "    </tr>\n",
              "  </tbody>\n",
              "</table>\n",
              "<p>4212 rows × 1 columns</p>\n",
              "</div>"
            ],
            "text/plain": [
              "         O\n",
              "0     -5.4\n",
              "17    -2.6\n",
              "19    -5.4\n",
              "33    -4.8\n",
              "51    -4.4\n",
              "...    ...\n",
              "42053 -2.6\n",
              "42073 -2.6\n",
              "42074 -2.8\n",
              "42075 -2.6\n",
              "42088 -2.6\n",
              "\n",
              "[4212 rows x 1 columns]"
            ]
          },
          "metadata": {
            "tags": []
          },
          "execution_count": 253
        }
      ]
    },
    {
      "cell_type": "code",
      "metadata": {
        "colab": {
          "base_uri": "https://localhost:8080/",
          "height": 282
        },
        "id": "F-0luhPEa8UD",
        "outputId": "2c633229-c0e5-4602-b068-b70444f615ac"
      },
      "source": [
        "f, ax = plt.subplots()\r\n",
        "ax.scatter(y_test, y_pred, s=1)"
      ],
      "execution_count": null,
      "outputs": [
        {
          "output_type": "execute_result",
          "data": {
            "text/plain": [
              "<matplotlib.collections.PathCollection at 0x7fa44d5b42e8>"
            ]
          },
          "metadata": {
            "tags": []
          },
          "execution_count": 254
        },
        {
          "output_type": "display_data",
          "data": {
            "image/png": "[encoded data removed]",
            "text/plain": [
              "<Figure size 432x288 with 1 Axes>"
            ]
          },
          "metadata": {
            "tags": [],
            "needs_background": "light"
          }
        }
      ]
    },
    {
      "cell_type": "code",
      "metadata": {
        "colab": {
          "base_uri": "https://localhost:8080/"
        },
        "id": "LjJIfwhka-1h",
        "outputId": "f99fdd1f-0114-4340-9ec5-3b0a62cfb33b"
      },
      "source": [
        "print(np.std(y_test - y_pred))"
      ],
      "execution_count": null,
      "outputs": [
        {
          "output_type": "stream",
          "text": [
            "O    0.003292\n",
            "dtype: float64\n"
          ],
          "name": "stdout"
        }
      ]
    },
    {
      "cell_type": "code",
      "metadata": {
        "id": "1HSRSJtQ4WZ0"
      },
      "source": [
        "histt = y_test-y_pred"
      ],
      "execution_count": null,
      "outputs": []
    },
    {
      "cell_type": "code",
      "metadata": {
        "colab": {
          "base_uri": "https://localhost:8080/",
          "height": 419
        },
        "id": "J8XSTanI7bPW",
        "outputId": "c699b6b1-1319-4dc4-c721-de70eb2966d2"
      },
      "source": [
        "histt"
      ],
      "execution_count": null,
      "outputs": [
        {
          "output_type": "execute_result",
          "data": {
            "text/html": [
              "<div>\n",
              "<style scoped>\n",
              "    .dataframe tbody tr th:only-of-type {\n",
              "        vertical-align: middle;\n",
              "    }\n",
              "\n",
              "    .dataframe tbody tr th {\n",
              "        vertical-align: top;\n",
              "    }\n",
              "\n",
              "    .dataframe thead th {\n",
              "        text-align: right;\n",
              "    }\n",
              "</style>\n",
              "<table border=\"1\" class=\"dataframe\">\n",
              "  <thead>\n",
              "    <tr style=\"text-align: right;\">\n",
              "      <th></th>\n",
              "      <th>O</th>\n",
              "    </tr>\n",
              "  </thead>\n",
              "  <tbody>\n",
              "    <tr>\n",
              "      <th>0</th>\n",
              "      <td>-0.007494</td>\n",
              "    </tr>\n",
              "    <tr>\n",
              "      <th>17</th>\n",
              "      <td>-0.008777</td>\n",
              "    </tr>\n",
              "    <tr>\n",
              "      <th>19</th>\n",
              "      <td>-0.008253</td>\n",
              "    </tr>\n",
              "    <tr>\n",
              "      <th>33</th>\n",
              "      <td>-0.010331</td>\n",
              "    </tr>\n",
              "    <tr>\n",
              "      <th>51</th>\n",
              "      <td>-0.005554</td>\n",
              "    </tr>\n",
              "    <tr>\n",
              "      <th>...</th>\n",
              "      <td>...</td>\n",
              "    </tr>\n",
              "    <tr>\n",
              "      <th>42053</th>\n",
              "      <td>-0.002573</td>\n",
              "    </tr>\n",
              "    <tr>\n",
              "      <th>42073</th>\n",
              "      <td>-0.007118</td>\n",
              "    </tr>\n",
              "    <tr>\n",
              "      <th>42074</th>\n",
              "      <td>-0.007411</td>\n",
              "    </tr>\n",
              "    <tr>\n",
              "      <th>42075</th>\n",
              "      <td>-0.014539</td>\n",
              "    </tr>\n",
              "    <tr>\n",
              "      <th>42088</th>\n",
              "      <td>-0.004066</td>\n",
              "    </tr>\n",
              "  </tbody>\n",
              "</table>\n",
              "<p>4212 rows × 1 columns</p>\n",
              "</div>"
            ],
            "text/plain": [
              "              O\n",
              "0     -0.007494\n",
              "17    -0.008777\n",
              "19    -0.008253\n",
              "33    -0.010331\n",
              "51    -0.005554\n",
              "...         ...\n",
              "42053 -0.002573\n",
              "42073 -0.007118\n",
              "42074 -0.007411\n",
              "42075 -0.014539\n",
              "42088 -0.004066\n",
              "\n",
              "[4212 rows x 1 columns]"
            ]
          },
          "metadata": {
            "tags": []
          },
          "execution_count": 257
        }
      ]
    },
    {
      "cell_type": "code",
      "metadata": {
        "id": "sarP8jtj7Frf"
      },
      "source": [
        "hist2 = np.std(histt)"
      ],
      "execution_count": null,
      "outputs": []
    },
    {
      "cell_type": "code",
      "metadata": {
        "colab": {
          "base_uri": "https://localhost:8080/"
        },
        "id": "0OIxW6rE7ZD2",
        "outputId": "632a7617-41d5-4403-d76b-359540ddb3aa"
      },
      "source": [
        "hist2"
      ],
      "execution_count": null,
      "outputs": [
        {
          "output_type": "execute_result",
          "data": {
            "text/plain": [
              "O    0.003292\n",
              "dtype: float64"
            ]
          },
          "metadata": {
            "tags": []
          },
          "execution_count": 259
        }
      ]
    },
    {
      "cell_type": "code",
      "metadata": {
        "colab": {
          "base_uri": "https://localhost:8080/",
          "height": 499
        },
        "id": "JTYKRzkG1xhw",
        "outputId": "c0328b0e-7d9e-481c-96d5-a3e5cff8d781"
      },
      "source": [
        "ax = histt.hist( bins=70, grid=False, figsize=(12,8), color='#86bf91', zorder=2, rwidth=0.9)"
      ],
      "execution_count": null,
      "outputs": [
        {
          "output_type": "display_data",
          "data": {
            "image/png": "[encoded data removed]",
            "text/plain": [
              "<Figure size 864x576 with 1 Axes>"
            ]
          },
          "metadata": {
            "tags": [],
            "needs_background": "light"
          }
        }
      ]
    },
    {
      "cell_type": "code",
      "metadata": {
        "id": "vkKgEdFf38Wf"
      },
      "source": [
        ""
      ],
      "execution_count": null,
      "outputs": []
    }
  ]
}