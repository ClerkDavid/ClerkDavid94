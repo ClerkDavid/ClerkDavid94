{
  "nbformat": 4,
  "nbformat_minor": 0,
  "metadata": {
    "colab": {
      "name": "Proyecto Python Ajuste.ipynb",
      "provenance": [],
      "collapsed_sections": []
    },
    "kernelspec": {
      "name": "python3",
      "display_name": "Python 3"
    }
  },
  "cells": [
    {
      "cell_type": "code",
      "metadata": {
        "id": "gAHjiijV3zjc"
      },
      "source": [
        "import numpy as np\n",
        "import matplotlib.pyplot as plt\n",
        "import pandas as pd"
      ],
      "execution_count": null,
      "outputs": []
    },
    {
      "cell_type": "code",
      "metadata": {
        "id": "sByWeNNUEcde"
      },
      "source": [
        "def cleandata(filename, daterange):\n",
        "  #data = np.genfromtxt(filename, comments=\"#\", delimiter = \"\", usecols = (0,1,2,3,4,5))\n",
        "\n",
        "  data = pd.read_csv(filename, names = ['freq', 'bin', 'Nufnu', 'error', 'ti', 'tf'] , comment='#', delim_whitespace=True)\n",
        "\n",
        "  condx = (data['freq'] > 1e16 ) & (data['freq'] < 1e20 )\n",
        "  condg = (data['freq'] > 1e24 ) & (data['freq'] < 1e28 )\n",
        "\n",
        "  datax = data[condx]\n",
        "  datag = data[condg]\n",
        "  \n",
        "  condtimex = ( datax['ti'] > daterange[0] ) &  ( datax['ti'] < daterange[1] )\n",
        "  condtimeg = ( datag['ti'] > daterange[0] ) &  ( datag['ti'] < daterange[1] )\n",
        "\n",
        "  return datax[condtimex], datag[condtimeg]"
      ],
      "execution_count": null,
      "outputs": []
    },
    {
      "cell_type": "code",
      "metadata": {
        "id": "AYoopo2L1jtN"
      },
      "source": [
        "#filename = '/content/PKS2155304.txt'\n",
        "#rt = [52500, 52660]\n",
        "\n",
        "#filename = '/content/MRK501.txt'\n",
        "#rt = [53380, 53500]\n",
        "\n",
        "filename = '/content/MRK421.txt'\n",
        "rt = [53100, 53200]\n",
        "datx, datg = cleandata(filename, rt)"
      ],
      "execution_count": null,
      "outputs": []
    },
    {
      "cell_type": "code",
      "metadata": {
        "colab": {
          "base_uri": "https://localhost:8080/",
          "height": 269
        },
        "id": "ldraJw0n4n2b",
        "outputId": "d79a106d-cf36-4585-a284-4999d0eb89b9"
      },
      "source": [
        "plt.scatter(datx['freq'], datx['Nufnu'], color = 'b')\n",
        "plt.scatter(datg['freq'], datg['Nufnu'], color = 'r')\n",
        "plt.yscale('log')\n",
        "plt.xscale('log')"
      ],
      "execution_count": null,
      "outputs": [
        {
          "output_type": "display_data",
          "data": {
            "image/png": "[encoded data removed]",
            "text/plain": [
              "<Figure size 432x288 with 1 Axes>"
            ]
          },
          "metadata": {
            "tags": [],
            "needs_background": "light"
          }
        }
      ]
    },
    {
      "cell_type": "code",
      "metadata": {
        "id": "GMWqmJM9_xZl"
      },
      "source": [
        "#constantes \n",
        "pi = np.pi\n",
        "sigmaT = sigmaT=6.65 * pow(10,-25) #cm2\n",
        "c = 2-99e10 #cms-1\n",
        "m_e = 9.11e-28 #g\n",
        "q_e = 4.8e-10 #stratc\n"
      ],
      "execution_count": null,
      "outputs": []
    },
    {
      "cell_type": "code",
      "metadata": {
        "id": "-Dzu-NKL8tsl",
        "colab": {
          "base_uri": "https://localhost:8080/",
          "height": 35
        },
        "outputId": "d42f6ba1-8c37-4197-9b2b-62c07e04a905"
      },
      "source": [
        "#parametros libres\n",
        "#B = 0.1e0              #Campo magnetico [Gauss]\n",
        "#Gamma = 6.25           #Factor de lorentz del Jet (bulk lorentz factor)\n",
        "#alpha = 2.3            #indice espectral de fotones\n",
        "#alpha_e = 2*alpha - 2  #indice espectral de electrones (p en el SED_tools)\n",
        "#N_oe = 1e3             #Densidad de elecrones [cm3] (N en el SED_tools)\n",
        "#U_oe = me*N_oe         #Densidad de energía\n",
        "#U_B = B**2/8*pi        #Densidad de campo magnetico en unidades naturales\n",
        "#r_d = 4e16             #radio de la región emisora [cm] (R del codigo de SED_tools)\n",
        "Mpc = 3.086e24         #Mega parsec [cm]\n",
        "#delta_D = Gamma\n",
        "delta_z = 140*Mpc      #distancia de la fuente \n",
        "\n",
        "'''\n",
        "Me confundi! el delta_D es factor de lorenz. Entonces todas las delta_D son igual a las Gamma\n",
        "'''\n"
      ],
      "execution_count": null,
      "outputs": [
        {
          "output_type": "execute_result",
          "data": {
            "application/vnd.google.colaboratory.intrinsic+json": {
              "type": "string"
            },
            "text/plain": [
              "'\\nMe confundi! el delta_D es factor de lorenz. Entonces todas las delta_D son igual a las Gamma\\n'"
            ]
          },
          "metadata": {
            "tags": []
          },
          "execution_count": 9
        }
      ]
    },
    {
      "cell_type": "code",
      "metadata": {
        "id": "OdEJ-4rPEhJD",
        "colab": {
          "base_uri": "https://localhost:8080/",
          "height": 219
        },
        "outputId": "8b6f6447-069e-4972-eed6-f8e12dc7f1f5"
      },
      "source": [
        "#Factor de Loretnz min, cooling, max\n",
        "gamma_min = ( (alpha_e - 2)/(m_e * (alpha_e -1) ) ) * U_oe/N_oe\n",
        "gamma_c = ( (3 * m_e) / ( 4 * sigmaT) ) * delta_D * pow(r_d, -1) * pow(U_B, -1) * (1 + U_oe/U_B)\n",
        "gamma_max = np.sqrt( ( pow(2/pi, 1/2) * 3 * q_e * pow(U_B, -1/2) ) / 4 * sigmaT )"
      ],
      "execution_count": null,
      "outputs": [
        {
          "output_type": "error",
          "ename": "NameError",
          "evalue": "ignored",
          "traceback": [
            "\u001b[0;31m---------------------------------------------------------------------------\u001b[0m",
            "\u001b[0;31mNameError\u001b[0m                                 Traceback (most recent call last)",
            "\u001b[0;32m<ipython-input-10-50bd163ca4e2>\u001b[0m in \u001b[0;36m<module>\u001b[0;34m()\u001b[0m\n\u001b[1;32m      1\u001b[0m \u001b[0;31m#Factor de Loretnz min, cooling, max\u001b[0m\u001b[0;34m\u001b[0m\u001b[0;34m\u001b[0m\u001b[0;34m\u001b[0m\u001b[0m\n\u001b[0;32m----> 2\u001b[0;31m \u001b[0mgamma_min\u001b[0m \u001b[0;34m=\u001b[0m \u001b[0;34m(\u001b[0m \u001b[0;34m(\u001b[0m\u001b[0malpha_e\u001b[0m \u001b[0;34m-\u001b[0m \u001b[0;36m2\u001b[0m\u001b[0;34m)\u001b[0m\u001b[0;34m/\u001b[0m\u001b[0;34m(\u001b[0m\u001b[0mm_e\u001b[0m \u001b[0;34m*\u001b[0m \u001b[0;34m(\u001b[0m\u001b[0malpha_e\u001b[0m \u001b[0;34m-\u001b[0m\u001b[0;36m1\u001b[0m\u001b[0;34m)\u001b[0m \u001b[0;34m)\u001b[0m \u001b[0;34m)\u001b[0m \u001b[0;34m*\u001b[0m \u001b[0mU_oe\u001b[0m\u001b[0;34m/\u001b[0m\u001b[0mN_oe\u001b[0m\u001b[0;34m\u001b[0m\u001b[0;34m\u001b[0m\u001b[0m\n\u001b[0m\u001b[1;32m      3\u001b[0m \u001b[0mgamma_c\u001b[0m \u001b[0;34m=\u001b[0m \u001b[0;34m(\u001b[0m \u001b[0;34m(\u001b[0m\u001b[0;36m3\u001b[0m \u001b[0;34m*\u001b[0m \u001b[0mm_e\u001b[0m\u001b[0;34m)\u001b[0m \u001b[0;34m/\u001b[0m \u001b[0;34m(\u001b[0m \u001b[0;36m4\u001b[0m \u001b[0;34m*\u001b[0m \u001b[0msigmaT\u001b[0m\u001b[0;34m)\u001b[0m \u001b[0;34m)\u001b[0m \u001b[0;34m*\u001b[0m \u001b[0mdelta_D\u001b[0m \u001b[0;34m*\u001b[0m \u001b[0mpow\u001b[0m\u001b[0;34m(\u001b[0m\u001b[0mr_d\u001b[0m\u001b[0;34m,\u001b[0m \u001b[0;34m-\u001b[0m\u001b[0;36m1\u001b[0m\u001b[0;34m)\u001b[0m \u001b[0;34m*\u001b[0m \u001b[0mpow\u001b[0m\u001b[0;34m(\u001b[0m\u001b[0mU_B\u001b[0m\u001b[0;34m,\u001b[0m \u001b[0;34m-\u001b[0m\u001b[0;36m1\u001b[0m\u001b[0;34m)\u001b[0m \u001b[0;34m*\u001b[0m \u001b[0;34m(\u001b[0m\u001b[0;36m1\u001b[0m \u001b[0;34m+\u001b[0m \u001b[0mU_oe\u001b[0m\u001b[0;34m/\u001b[0m\u001b[0mU_B\u001b[0m\u001b[0;34m)\u001b[0m\u001b[0;34m\u001b[0m\u001b[0;34m\u001b[0m\u001b[0m\n\u001b[1;32m      4\u001b[0m \u001b[0mgamma_max\u001b[0m \u001b[0;34m=\u001b[0m \u001b[0mnp\u001b[0m\u001b[0;34m.\u001b[0m\u001b[0msqrt\u001b[0m\u001b[0;34m(\u001b[0m \u001b[0;34m(\u001b[0m \u001b[0mpow\u001b[0m\u001b[0;34m(\u001b[0m\u001b[0;36m2\u001b[0m\u001b[0;34m/\u001b[0m\u001b[0mpi\u001b[0m\u001b[0;34m,\u001b[0m \u001b[0;36m1\u001b[0m\u001b[0;34m/\u001b[0m\u001b[0;36m2\u001b[0m\u001b[0;34m)\u001b[0m \u001b[0;34m*\u001b[0m \u001b[0;36m3\u001b[0m \u001b[0;34m*\u001b[0m \u001b[0mq_e\u001b[0m \u001b[0;34m*\u001b[0m \u001b[0mpow\u001b[0m\u001b[0;34m(\u001b[0m\u001b[0mU_B\u001b[0m\u001b[0;34m,\u001b[0m \u001b[0;34m-\u001b[0m\u001b[0;36m1\u001b[0m\u001b[0;34m/\u001b[0m\u001b[0;36m2\u001b[0m\u001b[0;34m)\u001b[0m \u001b[0;34m)\u001b[0m \u001b[0;34m/\u001b[0m \u001b[0;36m4\u001b[0m \u001b[0;34m*\u001b[0m \u001b[0msigmaT\u001b[0m \u001b[0;34m)\u001b[0m\u001b[0;34m\u001b[0m\u001b[0;34m\u001b[0m\u001b[0m\n",
            "\u001b[0;31mNameError\u001b[0m: name 'alpha_e' is not defined"
          ]
        }
      ]
    },
    {
      "cell_type": "code",
      "metadata": {
        "id": "AGzAx5g_Ed-4"
      },
      "source": [
        "#Las expresiones para Ne y Ue son las aproximadas \n",
        "def Ne(N_oe, gamma_min, alpha_e):\n",
        "  return (N_oe / (alpha_e - 1)) * pow(gamma_min, -alpha_e + 1)\n",
        "   \n",
        "def U_e(N_oe, gamma_min, alpha_e):\n",
        "  return (N_oe * me/(alpha_e - 1)) * pow(gamma_min, -alpha_e + 2) \n",
        "   "
      ],
      "execution_count": null,
      "outputs": []
    },
    {
      "cell_type": "code",
      "metadata": {
        "id": "-gXozPjPIA0u"
      },
      "source": [
        "#Sincrotron\n",
        "Eps_min = ( pow(8 * pi, 1/2) * q_e * delta_D * pow(U_B, 1/2) * pow(gamma_min, 2) ) / 2\n",
        "Eps_c = ( ( 9 * pow(2 * pi, 1/2) * q_e * m_e * pow(1 + U_e/U_B, -2) * pow(delta_D, 3) * pow(U_B, -3/2) * pow(r_d, -2) ) / (8 * pow(sigmaT, 2) ) )\n",
        "Eps_max = ( ( 3 * pow(q_e, 2) * delta_D ) / ( m_e * sigmaT ) ) "
      ],
      "execution_count": null,
      "outputs": []
    },
    {
      "cell_type": "code",
      "metadata": {
        "id": "G96RDu6VxHPu"
      },
      "source": [
        "#Energia de cooling\n",
        "def Esyn_c(r_d,U_B,U_e,N_e,Gamma,alpha_e):\n",
        "    Ec = ( ( 9 * (8*pi)**(1/2) * q_e * m_e * (1 + U_e/U_B,)**(2) * Gamma**(3) * U_B**(-3/2) * (r_d)**(-2) ) / (16 * (sigmaT)**(2) ) )\n",
        "    return Ec"
      ],
      "execution_count": null,
      "outputs": []
    },
    {
      "cell_type": "code",
      "metadata": {
        "id": "D0p4cnn0QKx3"
      },
      "source": [
        "#RAYOS-X\n",
        "#factor de normalizacion de sincrotron\n",
        "def Asyn(r_d,U_B,U_e,N_e,Gamma,alpha_e):\n",
        "    Emin = (8 * pi)**(1/2)* q_e * (alpha_e - 2)**(2)/(m_e**(3) * (alpha_e - 1)**(2)) * Gamma * U_B**(1/2) * (U_e/N_e)**(2)\n",
        "    Ec = ( ( 9 * (8*pi)**(1/2) * q_e * m_e * (1 + U_e/U_B,)**(2) * Gamma**(3) * U_B**(-3/2) * (r_d)**(-2) ) / (16 * (sigmaT)**(2) ) )\n",
        "    const = 1.0 / ( 4.0 * q_e ) * m_e**(2.0) / sigmaT\n",
        "    return const * Gamma**5.0 * U_B**(-1.0) * N_e * r_d**1.0 / delta_z**2.0 * (Ec / Emin)**(-(alpha_e - 1.0 ) / 2.0) * cm**(2.0)*sec/keV"
      ],
      "execution_count": null,
      "outputs": []
    },
    {
      "cell_type": "code",
      "metadata": {
        "id": "4kyE6YxhWd-d",
        "colab": {
          "base_uri": "https://localhost:8080/",
          "height": 321
        },
        "outputId": "b1fe54c4-1bfa-46df-944d-1fd3efe96c17"
      },
      "source": [
        "###---FLUJO\n",
        "\n",
        "#constantes\n",
        "pi = np.pi\n",
        "\n",
        "# Escalas de energia\n",
        "eV = 1\n",
        "keV = 1e3 * eV\n",
        "MeV = 1e6 * eV\n",
        "Jule=1/1.602176462 * 1e19 * eV\n",
        "erg= 1e-7 * Jule\n",
        "Hz=eV/4.189e-15\n",
        "\n",
        "# Masa\n",
        "m_e = 0.510998902 * MeV\n",
        "\n",
        "#Unidades de carga electica\n",
        "alph = 7.297352533 * 1e-3\n",
        "q_e = 8.542 * 1e-2 # Gaussian\n",
        "\n",
        "#Unidades de campo magnetico\n",
        "Gauss=5.788381749 *  1e-15 *  MeV * 2 * m_e/q_e\n",
        "\n",
        "#Escalas de distancia \n",
        "fm = 1/197.3269602 * 1/MeV \n",
        "cm = 1e13 * fm\n",
        "meter = 1e2 * cm\n",
        "\n",
        "#Escalas de tiempo\n",
        "sec = 299792458*meter\n",
        "\n",
        "#Seccion eficaz\n",
        "sigmaT = 6.65e-25 * cm**2\n",
        "\n",
        "### --- RAYOS-X ---\n",
        "#Energia de cooling\n",
        "def Esyn_c(r_d,U_B,U_e,N_e,Gamma,alpha_e):\n",
        "    Ec = ( ( 9 * (8*pi)**(1/2) * q_e * m_e * (1 + U_e/U_B)**(2) * Gamma**(3) * U_B**(-3/2) * (r_d)**(-2) ) / (16 * (sigmaT)**(2) ) )\n",
        "    return Ec\n",
        "\n",
        "#factor de normalizacion de sincrotron\n",
        "def Asyn(r_d,U_B,U_e,N_e,Gamma,alpha_e):\n",
        "    Emin = (8 * pi)**(1/2)* q_e * (alpha_e - 2)**(2)/(m_e**(3) * (alpha_e - 1)**(2)) * Gamma * U_B**(1/2) * (U_e/N_e)**(2)\n",
        "    Ec = ( ( 9 * (8*pi)**(1/2) * q_e * m_e * (1 + U_e/U_B)**(2) * Gamma**(3) * U_B**(-3/2) * (r_d)**(-2) ) / (16 * (sigmaT)**(2) ) )\n",
        "    const = 1.0 / ( 4.0 * q_e ) * m_e**2.0 / sigmaT\n",
        "    return const * Gamma**5.0 * U_B**(-1.0) * N_e * r_d**1.0 / delta_z**2.0 * (Ec / Emin)**(-(alpha_e - 1.0 ) / 2.0) * cm**(2.0)*sec/keV\n",
        "\n",
        "\n",
        "#Para el flujo de rayos X\n",
        "Emin_X = 2.0    #keV\n",
        "Emax_X = 10.0   #keV\n",
        "\n",
        "#flujo del SED rayos X\n",
        "#E_x es la energía en rayos X, en este caso en el rango de 2 a 10 keV y hay que evaluar Fx en cada punto de este rango\n",
        "\n",
        "Flux_X = []\n",
        "for E_X in range(2, 11, 1): #integra energía rayos x desde Emin_x hasta Emax_X\n",
        "\n",
        "    r_d = 1e17\n",
        "    B = 0.1*Gauss\n",
        "    U_B = B/(8.0*pi)\n",
        "    N0_e = 1e1\n",
        "    N_e = N0_e*1.0/(cm**3.0)\n",
        "    U_e = m_e*N_e\n",
        "    Gamma = 6.25\n",
        "    alpha_e = 2.01\n",
        "    alpha = 1 + alpha_e/2\n",
        "\n",
        "    Esyn_cX=Esyn_c(r_d,U_B,U_e,N_e,Gamma,alpha_e)\n",
        "    Esyn_cX_keV=Esyn_cX/keV #poniendo la energia de cooling Ec en keV\n",
        "    Asyn_X = Asyn(r_d,U_B,U_e,N_e,Gamma,alpha_e)\n",
        "\n",
        "    Fx = Asyn_X*(E_X/Esyn_cX_keV)**(-alpha+2.0)*(keV/erg)\n",
        "\n",
        "    Flux_X = np.append(Flux_X, Fx)\n",
        "print('flujo rayos X [ergcm-2s-1]', Flux_X)\n",
        "\n",
        "\n",
        "#energia rayos x\n",
        "Energy_x = np.arange(2,11,1)*1.0e3*Hz #eV\n",
        "\n",
        "plt.plot(Energy_x, Flux_X)\n",
        "plt.xscale('log')\n",
        "plt.yscale('log')\n"
      ],
      "execution_count": null,
      "outputs": [
        {
          "output_type": "stream",
          "text": [
            "flujo rayos X [ergcm-2s-1] [6.56911633e-13 6.55581209e-13 6.54638892e-13 6.53908907e-13\n",
            " 6.53313070e-13 6.52809721e-13 6.52374013e-13 6.51989933e-13\n",
            " 6.51646554e-13]\n"
          ],
          "name": "stdout"
        },
        {
          "output_type": "display_data",
          "data": {
            "image/png": "[encoded data removed]",
            "text/plain": [
              "<Figure size 432x288 with 1 Axes>"
            ]
          },
          "metadata": {
            "tags": [],
            "needs_background": "light"
          }
        }
      ]
    },
    {
      "cell_type": "code",
      "metadata": {
        "id": "ILc1VVWQgDJ-"
      },
      "source": [
        "### --- Rayos Gamma ---\n",
        "\n",
        "\n",
        "\n",
        "#factor de normalización para el pico IC\n",
        "def Aic(r_d,U_b,U_e,N_e,Gamma,p_1):\n",
        "\n",
        "    Eps_min = ( np.sqrt(8 * pi) ( (pow(alpha, 4)) * q_e  / (pow(alpha - 1, 4) * pow(m_e, 5)) ) ) * delta_D * (pow(U_B, 1 / 2) * ( pow(U_e, 4)) / pow(N_e, 4) )\n",
        "    Eps_c = ( ( 81 * q_e * pow(m_e, 3) ) / (256 * pow(sigma_T, 4)) ) * np.sqrt(2 * pi) * pow(sigma_D, 5) * pow(r_d, -4) * pow((1 + U_e / U_B), -4) * pow(U_B, -7 / 2)\n",
        "    const = 1.0 / ( 4.0 * q_e ) * pow(m_e, 2.0) / sigmaT\n",
        "    Asyn = const * pow( Gamma, 5.0) * pow( U_B, -1.0) * N_e * pow(r_d, 1.0) / pow(delta_z, 2.0) * pow( Ec / Em, -(alpha_e - 1.0 ) / 2.0) # *pow(cm,2.0)*sec/keV\n",
        "    Y = pow(N_e * m_e / U_B, 1.0/2.0)\n",
        "    \n",
        "    return Y*Asyn"
      ],
      "execution_count": null,
      "outputs": []
    },
    {
      "cell_type": "code",
      "metadata": {
        "id": "O52B-p4ERQU7"
      },
      "source": [
        "#Self compton emission\n",
        "N_e = (N_oe / (alpha_e - 1)) * pow(gamma_min, -alpha_e + 1) \n",
        "U_e =((N_oe * me) / alpha_e - 2) * pow(gamma_min, -alpha_e + 2)\n",
        "gamma_min = ((alpha_e - 2)/(me * (alpha_e - 1))) * U_e / N_e\n",
        "gamma_c = ((3 * me) / (4 * sigmaT)) * delta_D * pow(r_d, -1) * pow(U_B, -1) * (1 + U_e / U_B)\n",
        "gamma_max = np.sqrt( np.sqrt(2 / pi) * ((3 * q_e) / (4 * sigmaT)) * pow(U_B,-1 / 2)   ) \n",
        "E_min =  ( (np.sqrt(8 * pi) * pow(alpha_e - 2, 2)) / (pow(alpha_e - 1, 2) * pow(me, 3)) ) * q_e * delta_D * (pow(U_B,1 / 2) * pow(U_e, 2)) / (pow(N_e,2)) \n",
        "E_c = ( (9 * q_e * m_e) / (16 * sigmaT) ) * np.sqrt(8 * pi) * pow(delta_D,3) * pow(r_d, -2) * pow(U_B, -3 / 2) * (pow(1 + U_e / U_B, 2))\n",
        "\n",
        "E_max = ( (3 * pow(q_e, 2)) / (sigmaT * m_e) ) * delta_D\n",
        "Eps_min = ( np.sqrt(8 * pi) ( (pow(alpha, 4)) * q_e  / (pow(alpha - 1, 4) * pow(m_e, 5)) ) ) * delta_D * (pow(U_B, 1 / 2) * ( pow(U_e, 4)) / pow(N_e, 4) )\n",
        "Eps_c = ( ( 81 * q_e * pow(m_e, 3) ) / (256 * pow(sigma_T, 4)) ) * np.sqrt(2 * pi) * pow(sigma_D, 5) * pow(r_d, -4) * pow((1 + U_e / U_B), -4) * pow(U_B, -7 / 2)\n",
        "Eps_max = ( 9 / 4 ) * np.sqrt(2 / pi) * (pow(q_e, 3) / (pow(sigma_T, 2) * m_e) ) * sigma_D * pow(U_B, -1 / 2)"
      ],
      "execution_count": null,
      "outputs": []
    },
    {
      "cell_type": "code",
      "metadata": {
        "id": "yU9-hkJkeFMK"
      },
      "source": [
        "#factor de normalización para el pico IC\n",
        "def Aic(r_d,U_b,U_e,N_e,Gamma,p_1):\n",
        "\n",
        "    Eps_min = ( np.sqrt(8 * pi) ( (pow(alpha, 4)) * q_e  / (pow(alpha - 1, 4) * pow(m_e, 5)) ) ) * delta_D * (pow(U_B, 1 / 2) * ( pow(U_e, 4)) / pow(N_e, 4) )\n",
        "    Eps_c = ( ( 81 * q_e * pow(m_e, 3) ) / (256 * pow(sigma_T, 4)) ) * np.sqrt(2 * pi) * pow(sigma_D, 5) * pow(r_d, -4) * pow((1 + U_e / U_B), -4) * pow(U_B, -7 / 2)\n",
        "    const = 1.0 / ( 4.0 * q_e ) * pow(m_e, 2.0) / sigmaT\n",
        "    Asyn = const * pow( Gamma, 5.0) * pow( U_B, -1.0) * N_e * pow(r_d, 1.0) / pow(delta_z, 2.0) * pow( Ec / Em, -(alpha_e - 1.0 ) / 2.0) # *pow(cm,2.0)*sec/keV\n",
        "    Y = pow(N_e * m_e / U_B, 1.0/2.0)\n",
        "    \n",
        "    return Y*Asyn"
      ],
      "execution_count": null,
      "outputs": []
    },
    {
      "cell_type": "code",
      "metadata": {
        "id": "OHAcDGgZpDkF"
      },
      "source": [
        "#Para el flujo de rayos X\n",
        "Esyn_cXX_keV=Esyn_c/keV\n",
        "Emin_X = 2.0 #keV\n",
        "Emax_X = 10.0 #keV\n",
        "#flujo del SED rayos X\n",
        "#Fx=Asyn/(alpha-2.0)*(pow(Emin_X/Esyn_cXX_keV,-alpha+2.0)-pow(Emax_X/Esyn_cXX_keV,-alpha+2.0))*(keV/erg) #flux in x with erg/cm^2 s^-1    \n",
        "#E_x es la energía en rayos X, en este caso en el rango de 2 a 10 keV y hay que evaluar Fx en cada punto de este rango\n",
        "Fx = Asyn*(pow(E_X/Esyn_cXX_keV,-alpha+2.0) #hay que revisar las unidades de Asyn para que Fx esté en ergcm-2s-1\n",
        "print('flujo rayos X [ergcm-2s-1]', Fx)\n"
      ],
      "execution_count": null,
      "outputs": []
    },
    {
      "cell_type": "code",
      "metadata": {
        "id": "p9eNxDhgpnxO"
      },
      "source": [
        "#Para el flujo en rayos gamma\n",
        "Eic_cXX_TeV=Eic_c/TeV\n",
        "E_cut=4.0*TeV\n",
        "Emin=0.4*TeV\n",
        "Emax=10.0*TeV\n",
        "#this would be the flux in gamma with erg/cm^2 s^-1\n",
        "Fgamma=Aic/(alpha-2.0)*(pow(Emin/Eic_c,-alpha+2.0) - pow(Emax/Eic_c,-alpha+2.0)*(erg/TeV)\n",
        "print('flujo rayos gamma [ergcm-2s-1]', Fgamma)\n",
        "#reemplazar el Fgamma por la relacion resaltada en rojo en la pagina de \"conceptos aprendidos\""
      ],
      "execution_count": null,
      "outputs": []
    },
    {
      "cell_type": "markdown",
      "metadata": {
        "id": "47wvw_N1qSFP"
      },
      "source": [
        "Todos los parametros definidos anteriormente: B, Gamma, U_B, N_e, U_e, alpha, alpha_e son variables. Debemos poner el Fx y Fgamma en un ciclo en donde esos parámetros varian. El único parámetro fijo es r_d."
      ]
    },
    {
      "cell_type": "code",
      "metadata": {
        "id": "at0vvX9eq_nU"
      },
      "source": [
        "'''\n",
        "#ejemplo\n",
        "for kk in np.linspace(alpha_1Min,alpha_1Max-alpha_1Step,nsteps): #alpha_1 interval\n",
        "    for ii in np.arange(neMin,neMax,neStep): #Ne interval\n",
        "        for jj in np.arange(bMin,bMax,bStep): #B field interval\n",
        "                Gamma=gMin #using a single value for Gamma (lorentz factor)\n",
        "                alpha = kk\n",
        "                alpha_e = 2.0*alpha_1-2.0\n",
        "\n",
        "                B0=jj\n",
        "                B=B0*Gauss\n",
        "\n",
        "                N0_e=pow(10.0,ii)\n",
        "                N_e=N0_e*1.0/pow(cm,3.0)\n",
        "\n",
        "                U_e=me*N_e\n",
        "                U_B=pow(B,2.0)/(8.0*pi)\n",
        "\n",
        "                Esyn_cXX=Esyn_c(r_d,U_B,U_e,N_e,Gamma,p_1)\n",
        "                Eic_cXX=Eic_c(r_d,U_B,U_e,N_e,Gamma,p_1)\n",
        "                AsynXX=Asyn(r_d,U_B,U_e,N_e,Gamma,p_1)\n",
        "                AicXX=Aic(r_d,U_B,U_e,N_e,Gamma,p_1)\n",
        "\n",
        "                if (Esyn_cXX < 2000.0 and Eic_cXX < 0.4e12):\n",
        "\n",
        "                    Esyn_cXX_keV=Esyn_cXX/keV\n",
        "                    Emin_X = 2.0 #keV\n",
        "                    Emax_X = 10.0 #keV\n",
        "                    #flujo del SED rayos X\n",
        "                    #FluxSEDX = []\n",
        "                    #for enX in range(2,11, 1):#integra energía rayos x desde 2 a 10 keV\n",
        "                    Fx=AsynXX/(alpha_1-2.0)*(pow(Emin_X/Esyn_cXX_keV,-alpha_1+2.0)-pow(Emax_X/Esyn_cXX_keV,-alpha_1+2.0))*(keV/erg) #flux in x with erg/cm^2 s^-1\n",
        "                    print('flujo rayos X [ergcm-2s-1]', Fx)\n",
        "\n",
        "                    \n",
        "                    ##---rayos gamma---\n",
        "                    Eic_cXX_TeV=Eic_cXX/TeV\n",
        "                    E_cut=4.0*TeV\n",
        "                    Emin=0.4*TeV\n",
        "                    Emax=10.0*TeV\n",
        "\n",
        "                    #this would be the flux in gamma with erg/cm^2 s^-1\n",
        "                    Fgamma=AicXX/(alpha_1-2.0)*(pow(Emin/Eic_cXX,-alpha_1+2.0)*exp(-Emin/E_cut)- pow(Emax/Eic_cXX,-alpha_1+2.0)*exp(-Emax/E_cut))*(erg/TeV) - AicXX/(alpha_1-2.0)*(pow(Eic_cXX/E_cut,alpha_1-2.0)*gamma(3-alpha_1))*(erg/TeV)\n",
        "                    print('flujo rayos gamma [ergcm-2s-1]', Fgamma)\n",
        "'''                    "
      ],
      "execution_count": null,
      "outputs": []
    },
    {
      "cell_type": "markdown",
      "metadata": {
        "id": "BUsvI9bNaEUa"
      },
      "source": [
        "\n",
        "Pagina del modelo teorico\n",
        "https://www.notion.so/Modelo-Te-rico-4034b5161725430bbe4f03f317ecc337\n",
        "\n",
        "Página de la relacion del flujo del SED y de las unidades naturales\n",
        "https://www.notion.so/Conceptos-aprendidos-d5a14af6f9ca437dba8645da0f11c17e\n",
        "\n",
        "Página SED tools para comparar con el codigo\n",
        "http://www.isdc.unige.ch/sedtool/PROD/html_js/SED_Web_tool/Doc/test_doc/index.html"
      ]
    },
    {
      "cell_type": "code",
      "metadata": {
        "id": "wvTI3OIGXJwu"
      },
      "source": [
        ""
      ],
      "execution_count": null,
      "outputs": []
    }
  ]
}