{
  "nbformat": 4,
  "nbformat_minor": 5,
  "metadata": {
    "kernelspec": {
      "display_name": "Python 3",
      "language": "python",
      "name": "python3"
    },
    "language_info": {
      "codemirror_mode": {
        "name": "ipython",
        "version": 3
      },
      "file_extension": ".py",
      "mimetype": "text/x-python",
      "name": "python",
      "nbconvert_exporter": "python",
      "pygments_lexer": "ipython3",
      "version": "3.7.9"
    },
    "colab": {
      "name": "FitChido.ipynb",
      "provenance": [],
      "collapsed_sections": []
    }
  },
  "cells": [
    {
      "cell_type": "code",
      "metadata": {
        "id": "generic-sperm"
      },
      "source": [
        "import numpy as np\n",
        "import matplotlib.pyplot as plt\n",
        "import pandas as pd\n",
        "\n",
        "# import jetset\n",
        "# from jetset.data_loader import Data\n",
        "# from jetset.data_loader import ObsData\n",
        "# from jetset.test_data_helper import  test_SEDs\n",
        "# from jetset.plot_sedfit import PlotSED\n",
        "\n",
        "#Programa para ajustar curvas de emision de rayos x y gamma de galaxias AGN starbust"
      ],
      "id": "generic-sperm",
      "execution_count": null,
      "outputs": []
    },
    {
      "cell_type": "code",
      "metadata": {
        "id": "caring-maximum"
      },
      "source": [
        "class sed:\n",
        "\n",
        "    def __init__(self, name, filename, z = 1.0, daterange = [0, 70000]):\n",
        "        self.filename = filename\n",
        "        self.name = name\n",
        "        self.data = pd.read_csv(filename, names = ['freq', 'bin', 'Nufnu', 'error', 'ti', 'tf'] , comment='#', delim_whitespace=True)\n",
        "        self.z = z\n",
        "        \n",
        "        if daterange == [0, 70000] :\n",
        "            daterange[0] = np.min(self.data['ti'])\n",
        "            daterange[1] = np.max(self.data['ti'])\n",
        "            \n",
        "        self.daterange = [daterange[0], daterange[1]]\n",
        "    \n",
        "    def seealldata(self):\n",
        "        plt.scatter(self.data['freq'][(self.data['freq'] < 1e20 )], self.data['Nufnu'][(self.data['freq'] < 1e20 )], color = 'b', label='Soft X Rays')\n",
        "        plt.scatter(self.data['freq'][(self.data['freq'] > 1e20 )], self.data['Nufnu'][(self.data['freq'] > 1e20 )], color = 'r', label='Gamma Rays')\n",
        "        plt.yscale('log')\n",
        "        plt.xscale('log')\n",
        "        plt.title('All Data')\n",
        "        plt.legend()\n",
        "        plt.show()\n",
        "        \n",
        "    def seedates(self, daterange = [0, 70000]):\n",
        "        if daterange == [0, 70000] :\n",
        "            daterange = self.daterange\n",
        "        \n",
        "        condx = (self.data['freq'] < 1e20) & ( self.data['ti'] > daterange[0] ) &  ( self.data['ti'] < daterange[1] )\n",
        "        condg = (self.data['freq'] > 1e20) & ( self.data['ti'] > daterange[0] ) &  ( self.data['ti'] < daterange[1] )\n",
        "        \n",
        "        plt.hist(self.data['ti'][condx], bins = 10, color = 'b')\n",
        "        plt.hist(self.data['ti'][condg], bins = 10, alpha = 0.5, color = 'r')\n",
        "        plt.show()\n",
        "        \n",
        "        self.daterange  = daterange\n",
        "    \n",
        "    def cleandata(self):\n",
        "        daterange = self.daterange\n",
        "        \n",
        "        condx = (self.data['freq'] < 1e20) & ( self.data['ti'] > daterange[0] ) &  ( self.data['ti'] < daterange[1] )\n",
        "        condg = (self.data['freq'] > 1e20) & ( self.data['ti'] > daterange[0] ) &  ( self.data['ti'] < daterange[1] )\n",
        "        \n",
        "        plt.scatter(self.data['freq'][condx], self.data['Nufnu'][condx], color = 'b', label='Soft X Rays')\n",
        "        plt.scatter(self.data['freq'][condg], self.data['Nufnu'][condg], color = 'r', label='Gamma Rays')\n",
        "        plt.yscale('log')\n",
        "        plt.xscale('log')\n",
        "        plt.title('Data Clean')\n",
        "        plt.legend()\n",
        "        plt.show()\n",
        "\n",
        "        self.dataclean = pd.concat([self.data[condx], self.data[condg]])\n",
        "        \n",
        "    def datatotable(self):\n",
        "        \n",
        "        d = self.dataclean\n",
        "        data = Data(n_rows = d.shape[0])\n",
        "        data.set_field('x', np.log10(d['freq']))\n",
        "        data.set_field('y', np.log10(d['Nufnu']))\n",
        "        data.set_field('dy', np.log10(d['error']))\n",
        "        data.set_field('T_start', d['ti'])\n",
        "        data.set_field('T_stop', d['tf'])\n",
        "        \n",
        "        data.set_meta_data('z', self.z)\n",
        "        data.set_meta_data('obj_name', self.name)\n",
        "        data.set_meta_data('restframe','obs')\n",
        "        data.set_meta_data('data_scale','log-log')\n",
        "        \n",
        "        self.fdata = data\n",
        "        self.datased()\n",
        "        \n",
        "    def datased(self):\n",
        "        data_table = self.fdata\n",
        "        self.sed_data = ObsData( data_table = data_table )\n",
        "        #sed_data.table\n",
        "        #sed_data.metadata\n",
        "\n",
        "    def activity_cleandata(self):\n",
        "        daterange = self.daterange\n",
        "        \n",
        "        condx = (self.data['freq'] < 1e20) & ( self.data['ti'] > daterange[0] ) &  ( self.data['ti'] < daterange[1] )\n",
        "        condg = (self.data['freq'] > 1e20) & ( self.data['ti'] > daterange[0] ) &  ( self.data['ti'] < daterange[1] )\n",
        "        \n",
        "        plt.scatter(self.data['freq'][condx], self.data['Nufnu'][condx], color = 'b', label='Choosen X-rays')\n",
        "        plt.scatter(self.data['freq'][condg], self.data['Nufnu'][condg], color = 'r', label=r'Choosen TeV $\\gamma$-rays')\n",
        "        plt.scatter(self.data['freq'][(self.data['freq'] < 1e20 )], self.data['Nufnu'][(self.data['freq'] < 1e20 )], \n",
        "                    color = 'b', s=10, label='Total X-ray data', alpha = 0.1)\n",
        "        plt.scatter(self.data['freq'][(self.data['freq'] > 1e20 )], self.data['Nufnu'][(self.data['freq'] > 1e20 )],\n",
        "                    color = 'r', s=10, label=r'Total TeV $\\gamma$-ray data', alpha = 0.1)\n",
        "        plt.yscale('log')\n",
        "        plt.xscale('log')\n",
        "        plt.title('Data Clean')\n",
        "        plt.legend()\n",
        "        plt.show()        \n",
        "\n",
        "    def modelsed(self, a = 1.0, b = 2 ,c = 3,):\n",
        "\n",
        "        my_jet.set_par('z_cosm', val = self.z)  ### [4-6] e15\n",
        "        B\n",
        "\n",
        "        my_jet=Jet(name='test',electron_distribution='lppl',electron_distribution_log_values=True)\n",
        "        my_jet.eval()\n",
        "        my_jet.spectral_components.build_table(restframe='obs')\n",
        "        self.t_obs = my_jet.spectral_components.table\n",
        "\n",
        "    def printmodelplusdata(self):\n",
        "      realdata = self.sed_data\n",
        "      #modeldata = self.t_obs\n",
        "      modeldata = np.loadtxt('test_SED_prueba.txt')\n",
        "      \n",
        "      ######Agregado de Josue\n",
        "      #datos = pd.read_csv(\"test_SED_prueba.txt\", sep=\"\\t\")   \n",
        "      #MKR421 = np.genfromtxt('MRK421.txt', comments='#', delimiter='', usecols = (0,1,2,3,4,5))  #DAtos\n",
        "      #MKR421= pd.DataFrame(MKR421, columns=['nu', 'bin', 'nufnu', 'nufnu_e', 'TStart', 'TStop']) #DAtos a pandas para mejor manejo\n",
        "      \n",
        "      #Grafica del modelo\n",
        "      fig, ax2 = plt.subplots(constrained_layout = True,figsize=(9,5)) \n",
        "      ax2.loglog(datos['#nu'], datos[['Sum','Sync','SSC']]) \n",
        "      ax2.set_ylabel('log(vF) [erg cm-2 s-1]') \n",
        "      ax2.set_xlabel('log(nu) [Hz]') \n",
        "      ax2.set_title('log(E) [eV]')\n",
        "      plt.ylim(pow(10,-18.5),10e-14)\n",
        "      plt.xlim(10e+8,10e27)\n",
        "      \n",
        "\n",
        "      #Grafica de los datos.\n",
        "      #Este archivo es mejor llamarlo desde la funcion que limpia los datos\n",
        "      #ya que estan los diferentes tiempos de observacion\n",
        "      fig, ax = plt.subplots(constrained_layout = True,figsize=(9,5)) \n",
        "      ax.loglog(MKR421['nu'], MKR421[['nufnu']]) \n",
        "      ax.set_ylabel('log(vF) [erg cm-2 s-1]') \n",
        "      ax.set_xlabel('log(nu) [Hz]') \n",
        "      ax.set_title('log(E) [eV]')\n",
        "      plt.ylim(pow(10,-15),10e-10)\n",
        "      plt.xlim(10e+8,10e27)"
      ],
      "id": "caring-maximum",
      "execution_count": null,
      "outputs": []
    },
    {
      "cell_type": "code",
      "metadata": {
        "id": "metallic-baseline",
        "colab": {
          "base_uri": "https://localhost:8080/",
          "height": 285
        },
        "outputId": "89a65ff4-0387-40c4-deb5-0b19b8233c07"
      },
      "source": [
        "MRK421 = sed(name = 'MRK421', filename='MRK421.txt', z = 0.0308)\n",
        "MRK421.seealldata()"
      ],
      "id": "metallic-baseline",
      "execution_count": null,
      "outputs": [
        {
          "output_type": "display_data",
          "data": {
            "image/png": "[encoded data removed]",
            "text/plain": [
              "<Figure size 432x288 with 1 Axes>"
            ]
          },
          "metadata": {
            "tags": [],
            "needs_background": "light"
          }
        }
      ]
    },
    {
      "cell_type": "code",
      "metadata": {
        "id": "white-welcome",
        "colab": {
          "base_uri": "https://localhost:8080/",
          "height": 533
        },
        "outputId": "c168f19d-c4b0-471a-9ffd-2398a87e976d"
      },
      "source": [
        "MRK421.seedates([53000,53300])\n",
        "MRK421.cleandata()"
      ],
      "id": "white-welcome",
      "execution_count": null,
      "outputs": [
        {
          "output_type": "display_data",
          "data": {
            "image/png": "[encoded data removed]",
            "text/plain": [
              "<Figure size 432x288 with 1 Axes>"
            ]
          },
          "metadata": {
            "tags": [],
            "needs_background": "light"
          }
        },
        {
          "output_type": "display_data",
          "data": {
            "image/png": "[encoded data removed]",
            "text/plain": [
              "<Figure size 432x288 with 1 Axes>"
            ]
          },
          "metadata": {
            "tags": [],
            "needs_background": "light"
          }
        }
      ]
    },
    {
      "cell_type": "code",
      "metadata": {
        "scrolled": true,
        "id": "objective-somewhere",
        "colab": {
          "base_uri": "https://localhost:8080/",
          "height": 335
        },
        "outputId": "f4f97559-4168-4391-c140-1376e4b39272"
      },
      "source": [
        "MRK421.datatotable()\n",
        "MRK421.sed_data\n",
        "sed_data = MRK421.sed_data"
      ],
      "id": "objective-somewhere",
      "execution_count": null,
      "outputs": [
        {
          "output_type": "error",
          "ename": "NameError",
          "evalue": "ignored",
          "traceback": [
            "\u001b[0;31m---------------------------------------------------------------------------\u001b[0m",
            "\u001b[0;31mNameError\u001b[0m                                 Traceback (most recent call last)",
            "\u001b[0;32m<ipython-input-6-b2003de51a88>\u001b[0m in \u001b[0;36m<module>\u001b[0;34m()\u001b[0m\n\u001b[0;32m----> 1\u001b[0;31m \u001b[0mMRK421\u001b[0m\u001b[0;34m.\u001b[0m\u001b[0mdatatotable\u001b[0m\u001b[0;34m(\u001b[0m\u001b[0;34m)\u001b[0m\u001b[0;34m\u001b[0m\u001b[0;34m\u001b[0m\u001b[0m\n\u001b[0m\u001b[1;32m      2\u001b[0m \u001b[0mMRK421\u001b[0m\u001b[0;34m.\u001b[0m\u001b[0msed_data\u001b[0m\u001b[0;34m\u001b[0m\u001b[0;34m\u001b[0m\u001b[0m\n\u001b[1;32m      3\u001b[0m \u001b[0msed_data\u001b[0m \u001b[0;34m=\u001b[0m \u001b[0mMRK421\u001b[0m\u001b[0;34m.\u001b[0m\u001b[0msed_data\u001b[0m\u001b[0;34m\u001b[0m\u001b[0;34m\u001b[0m\u001b[0m\n",
            "\u001b[0;32m<ipython-input-2-5bc5c84c6306>\u001b[0m in \u001b[0;36mdatatotable\u001b[0;34m(self)\u001b[0m\n\u001b[1;32m     54\u001b[0m \u001b[0;34m\u001b[0m\u001b[0m\n\u001b[1;32m     55\u001b[0m         \u001b[0md\u001b[0m \u001b[0;34m=\u001b[0m \u001b[0mself\u001b[0m\u001b[0;34m.\u001b[0m\u001b[0mdataclean\u001b[0m\u001b[0;34m\u001b[0m\u001b[0;34m\u001b[0m\u001b[0m\n\u001b[0;32m---> 56\u001b[0;31m         \u001b[0mdata\u001b[0m \u001b[0;34m=\u001b[0m \u001b[0mData\u001b[0m\u001b[0;34m(\u001b[0m\u001b[0mn_rows\u001b[0m \u001b[0;34m=\u001b[0m \u001b[0md\u001b[0m\u001b[0;34m.\u001b[0m\u001b[0mshape\u001b[0m\u001b[0;34m[\u001b[0m\u001b[0;36m0\u001b[0m\u001b[0;34m]\u001b[0m\u001b[0;34m)\u001b[0m\u001b[0;34m\u001b[0m\u001b[0;34m\u001b[0m\u001b[0m\n\u001b[0m\u001b[1;32m     57\u001b[0m         \u001b[0mdata\u001b[0m\u001b[0;34m.\u001b[0m\u001b[0mset_field\u001b[0m\u001b[0;34m(\u001b[0m\u001b[0;34m'x'\u001b[0m\u001b[0;34m,\u001b[0m\u001b[0mnp\u001b[0m\u001b[0;34m.\u001b[0m\u001b[0mlog10\u001b[0m\u001b[0;34m(\u001b[0m\u001b[0md\u001b[0m\u001b[0;34m[\u001b[0m\u001b[0;34m'freq'\u001b[0m\u001b[0;34m]\u001b[0m\u001b[0;34m)\u001b[0m\u001b[0;34m)\u001b[0m\u001b[0;34m\u001b[0m\u001b[0;34m\u001b[0m\u001b[0m\n\u001b[1;32m     58\u001b[0m         \u001b[0mdata\u001b[0m\u001b[0;34m.\u001b[0m\u001b[0mset_field\u001b[0m\u001b[0;34m(\u001b[0m\u001b[0;34m'y'\u001b[0m\u001b[0;34m,\u001b[0m\u001b[0mnp\u001b[0m\u001b[0;34m.\u001b[0m\u001b[0mlog10\u001b[0m\u001b[0;34m(\u001b[0m\u001b[0md\u001b[0m\u001b[0;34m[\u001b[0m\u001b[0;34m'Nufnu'\u001b[0m\u001b[0;34m]\u001b[0m\u001b[0;34m)\u001b[0m\u001b[0;34m)\u001b[0m\u001b[0;34m\u001b[0m\u001b[0;34m\u001b[0m\u001b[0m\n",
            "\u001b[0;31mNameError\u001b[0m: name 'Data' is not defined"
          ]
        }
      ]
    },
    {
      "cell_type": "code",
      "metadata": {
        "id": "military-verification"
      },
      "source": [
        ""
      ],
      "id": "military-verification",
      "execution_count": null,
      "outputs": []
    }
  ]
}